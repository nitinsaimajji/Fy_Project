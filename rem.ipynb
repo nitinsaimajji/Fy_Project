{
 "cells": [
  {
   "cell_type": "code",
   "execution_count": 179,
   "metadata": {
    "colab": {
     "base_uri": "https://localhost:8080/"
    },
    "id": "GWXsObzt-NYn",
    "outputId": "a9da8503-8c5d-4fd5-c3ad-df3f530451dd"
   },
   "outputs": [
    {
     "name": "stdout",
     "output_type": "stream",
     "text": [
      "Requirement already satisfied: transformers in c:\\python310\\lib\\site-packages (4.33.2)"
     ]
    },
    {
     "name": "stderr",
     "output_type": "stream",
     "text": [
      "WARNING: Ignoring invalid distribution -rotobuf (c:\\python310\\lib\\site-packages)\n",
      "WARNING: Ignoring invalid distribution -treamlit (c:\\python310\\lib\\site-packages)\n",
      "WARNING: Ignoring invalid distribution -rotobuf (c:\\python310\\lib\\site-packages)\n",
      "WARNING: Ignoring invalid distribution -treamlit (c:\\python310\\lib\\site-packages)\n"
     ]
    },
    {
     "name": "stdout",
     "output_type": "stream",
     "text": [
      "\n",
      "Requirement already satisfied: filelock in c:\\python310\\lib\\site-packages (from transformers) (3.7.1)\n",
      "Requirement already satisfied: huggingface-hub<1.0,>=0.15.1 in c:\\python310\\lib\\site-packages (from transformers) (0.17.3)\n",
      "Requirement already satisfied: numpy>=1.17 in c:\\python310\\lib\\site-packages (from transformers) (1.24.4)\n",
      "Requirement already satisfied: packaging>=20.0 in c:\\python310\\lib\\site-packages (from transformers) (21.3)\n",
      "Requirement already satisfied: pyyaml>=5.1 in c:\\users\\lenovo\\appdata\\roaming\\python\\python310\\site-packages (from transformers) (5.4.1)\n",
      "Requirement already satisfied: regex!=2019.12.17 in c:\\users\\lenovo\\appdata\\roaming\\python\\python310\\site-packages (from transformers) (2022.9.13)\n",
      "Requirement already satisfied: requests in c:\\python310\\lib\\site-packages (from transformers) (2.27.1)\n",
      "Requirement already satisfied: tokenizers!=0.11.3,<0.14,>=0.11.1 in c:\\python310\\lib\\site-packages (from transformers) (0.13.3)\n",
      "Requirement already satisfied: safetensors>=0.3.1 in c:\\python310\\lib\\site-packages (from transformers) (0.3.3)\n",
      "Requirement already satisfied: tqdm>=4.27 in c:\\users\\lenovo\\appdata\\roaming\\python\\python310\\site-packages (from transformers) (4.64.1)\n",
      "Requirement already satisfied: fsspec in c:\\python310\\lib\\site-packages (from huggingface-hub<1.0,>=0.15.1->transformers) (2023.9.2)\n",
      "Requirement already satisfied: typing-extensions>=3.7.4.3 in c:\\python310\\lib\\site-packages (from huggingface-hub<1.0,>=0.15.1->transformers) (4.3.0)\n",
      "Requirement already satisfied: pyparsing!=3.0.5,>=2.0.2 in c:\\python310\\lib\\site-packages (from packaging>=20.0->transformers) (3.0.9)\n",
      "Requirement already satisfied: colorama in c:\\users\\lenovo\\appdata\\roaming\\python\\python310\\site-packages (from tqdm>=4.27->transformers) (0.4.3)\n",
      "Requirement already satisfied: urllib3<1.27,>=1.21.1 in c:\\python310\\lib\\site-packages (from requests->transformers) (1.26.8)\n",
      "Requirement already satisfied: certifi>=2017.4.17 in c:\\python310\\lib\\site-packages (from requests->transformers) (2021.10.8)\n",
      "Requirement already satisfied: charset-normalizer~=2.0.0 in c:\\python310\\lib\\site-packages (from requests->transformers) (2.0.10)\n",
      "Requirement already satisfied: idna<4,>=2.5 in c:\\python310\\lib\\site-packages (from requests->transformers) (3.3)\n",
      "Requirement already satisfied: pyLDAvis in c:\\python310\\lib\\site-packages (3.4.1)\n",
      "Requirement already satisfied: numpy>=1.24.2 in c:\\python310\\lib\\site-packages (from pyLDAvis) (1.24.4)\n",
      "Requirement already satisfied: scipy in c:\\python310\\lib\\site-packages (from pyLDAvis) (1.9.1)\n",
      "Requirement already satisfied: pandas>=2.0.0 in c:\\python310\\lib\\site-packages (from pyLDAvis) (2.1.1)\n",
      "Requirement already satisfied: joblib>=1.2.0 in c:\\python310\\lib\\site-packages (from pyLDAvis) (1.3.2)\n",
      "Requirement already satisfied: jinja2 in c:\\python310\\lib\\site-packages (from pyLDAvis) (3.1.2)\n",
      "Requirement already satisfied: numexpr in c:\\python310\\lib\\site-packages (from pyLDAvis) (2.8.7)\n",
      "Requirement already satisfied: funcy in c:\\python310\\lib\\site-packages (from pyLDAvis) (2.0)\n",
      "Requirement already satisfied: scikit-learn>=1.0.0 in c:\\python310\\lib\\site-packages (from pyLDAvis) (1.1.2)\n",
      "Requirement already satisfied: gensim in c:\\python310\\lib\\site-packages (from pyLDAvis) (4.3.2)\n",
      "Requirement already satisfied: setuptools in c:\\python310\\lib\\site-packages (from pyLDAvis) (58.1.0)\n",
      "Requirement already satisfied: python-dateutil>=2.8.2 in c:\\python310\\lib\\site-packages (from pandas>=2.0.0->pyLDAvis) (2.8.2)\n",
      "Requirement already satisfied: pytz>=2020.1 in c:\\python310\\lib\\site-packages (from pandas>=2.0.0->pyLDAvis) (2021.3)\n",
      "Requirement already satisfied: tzdata>=2022.1 in c:\\python310\\lib\\site-packages (from pandas>=2.0.0->pyLDAvis) (2022.7)\n",
      "Requirement already satisfied: threadpoolctl>=2.0.0 in c:\\python310\\lib\\site-packages (from scikit-learn>=1.0.0->pyLDAvis) (3.1.0)\n",
      "Requirement already satisfied: smart-open>=1.8.1 in c:\\python310\\lib\\site-packages (from gensim->pyLDAvis) (6.4.0)\n",
      "Requirement already satisfied: MarkupSafe>=2.0 in c:\\python310\\lib\\site-packages (from jinja2->pyLDAvis) (2.1.1)\n",
      "Requirement already satisfied: six>=1.5 in c:\\users\\lenovo\\appdata\\roaming\\python\\python310\\site-packages (from python-dateutil>=2.8.2->pandas>=2.0.0->pyLDAvis) (1.14.0)\n"
     ]
    },
    {
     "name": "stderr",
     "output_type": "stream",
     "text": [
      "WARNING: Ignoring invalid distribution -rotobuf (c:\\python310\\lib\\site-packages)\n",
      "WARNING: Ignoring invalid distribution -treamlit (c:\\python310\\lib\\site-packages)\n",
      "WARNING: Ignoring invalid distribution -rotobuf (c:\\python310\\lib\\site-packages)\n",
      "WARNING: Ignoring invalid distribution -treamlit (c:\\python310\\lib\\site-packages)\n"
     ]
    },
    {
     "name": "stdout",
     "output_type": "stream",
     "text": [
      "Requirement already satisfied: nltk in c:\\users\\lenovo\\appdata\\roaming\\python\\python310\\site-packages (3.7)\n",
      "Requirement already satisfied: click in c:\\users\\lenovo\\appdata\\roaming\\python\\python310\\site-packages (from nltk) (8.1.3)\n",
      "Requirement already satisfied: joblib in c:\\python310\\lib\\site-packages (from nltk) (1.3.2)\n",
      "Requirement already satisfied: regex>=2021.8.3 in c:\\users\\lenovo\\appdata\\roaming\\python\\python310\\site-packages (from nltk) (2022.9.13)\n",
      "Requirement already satisfied: tqdm in c:\\users\\lenovo\\appdata\\roaming\\python\\python310\\site-packages (from nltk) (4.64.1)\n",
      "Requirement already satisfied: colorama in c:\\users\\lenovo\\appdata\\roaming\\python\\python310\\site-packages (from click->nltk) (0.4.3)\n"
     ]
    },
    {
     "name": "stderr",
     "output_type": "stream",
     "text": [
      "WARNING: Ignoring invalid distribution -rotobuf (c:\\python310\\lib\\site-packages)\n",
      "WARNING: Ignoring invalid distribution -treamlit (c:\\python310\\lib\\site-packages)\n",
      "WARNING: Ignoring invalid distribution -rotobuf (c:\\python310\\lib\\site-packages)\n",
      "WARNING: Ignoring invalid distribution -treamlit (c:\\python310\\lib\\site-packages)\n",
      "[nltk_data] Downloading package omw-1.4 to\n",
      "[nltk_data]     C:\\Users\\Lenovo\\AppData\\Roaming\\nltk_data...\n",
      "[nltk_data]   Package omw-1.4 is already up-to-date!\n"
     ]
    },
    {
     "data": {
      "text/plain": [
       "True"
      ]
     },
     "execution_count": 179,
     "metadata": {},
     "output_type": "execute_result"
    }
   ],
   "source": [
    "!pip install transformers\n",
    "!pip install pyLDAvis\n",
    "!pip install nltk\n",
    "import nltk\n",
    "nltk.download('omw-1.4')"
   ]
  },
  {
   "cell_type": "code",
   "execution_count": 180,
   "metadata": {
    "colab": {
     "base_uri": "https://localhost:8080/",
     "height": 390
    },
    "id": "EFos6L9qHO-0",
    "outputId": "b85080d7-a520-4ebb-d708-f08dc016bbb1"
   },
   "outputs": [
    {
     "name": "stderr",
     "output_type": "stream",
     "text": [
      "[nltk_data] Downloading package punkt to\n",
      "[nltk_data]     C:\\Users\\Lenovo\\AppData\\Roaming\\nltk_data...\n",
      "[nltk_data]   Package punkt is already up-to-date!\n",
      "[nltk_data] Downloading package averaged_perceptron_tagger to\n",
      "[nltk_data]     C:\\Users\\Lenovo\\AppData\\Roaming\\nltk_data...\n",
      "[nltk_data]   Package averaged_perceptron_tagger is already up-to-\n",
      "[nltk_data]       date!\n",
      "[nltk_data] Downloading package tagsets to\n",
      "[nltk_data]     C:\\Users\\Lenovo\\AppData\\Roaming\\nltk_data...\n",
      "[nltk_data]   Package tagsets is already up-to-date!\n",
      "[nltk_data] Downloading package wordnet to\n",
      "[nltk_data]     C:\\Users\\Lenovo\\AppData\\Roaming\\nltk_data...\n",
      "[nltk_data]   Package wordnet is already up-to-date!\n",
      "[nltk_data] Downloading package stopwords to\n",
      "[nltk_data]     C:\\Users\\Lenovo\\AppData\\Roaming\\nltk_data...\n",
      "[nltk_data]   Package stopwords is already up-to-date!\n"
     ]
    },
    {
     "data": {
      "text/plain": [
       "True"
      ]
     },
     "execution_count": 180,
     "metadata": {},
     "output_type": "execute_result"
    }
   ],
   "source": [
    "import nltk\n",
    "nltk.download('punkt')\n",
    "nltk.download('averaged_perceptron_tagger')\n",
    "nltk.download('tagsets')\n",
    "nltk.download('wordnet')\n",
    "nltk.download('stopwords')"
   ]
  },
  {
   "cell_type": "code",
   "execution_count": 181,
   "metadata": {
    "id": "oHGjC0GuGfNG"
   },
   "outputs": [],
   "source": [
    "# Import required libraries, functions and classes\n",
    "\n",
    "#Numpy and pandas for dataframes\n",
    "import numpy as np\n",
    "import pandas as pd\n",
    "\n",
    "# nltk library for tokenization, lemmatizer, stopwords, pos tags and FreqDist\n",
    "# import string for punctuation and str manipulations\n",
    "import nltk\n",
    "from nltk.tokenize import word_tokenize,TweetTokenizer\n",
    "from nltk.tag import pos_tag\n",
    "from nltk.stem import WordNetLemmatizer\n",
    "from nltk import FreqDist\n",
    "from nltk.corpus import stopwords\n",
    "import string\n",
    "\n",
    "#Gensim library for LDA model creation . Corpora in gensim to create the id2word Dictionary and corpus of terms\n",
    "import gensim\n",
    "import gensim.corpora as corpora\n",
    "from gensim.models import CoherenceModel\n",
    "\n",
    "#visualization using matplotlib and pyLDAvis for the LDA model viz\n",
    "import matplotlib.pyplot as plt\n",
    "import pyLDAvis\n",
    "import pyLDAvis.gensim_models\n",
    "\n",
    "#import warnings to ignore deprecation warning\n",
    "import warnings\n",
    "warnings.filterwarnings(\"ignore\", category = DeprecationWarning)"
   ]
  },
  {
   "cell_type": "code",
   "execution_count": 182,
   "metadata": {
    "id": "eSzwB1GP9OQt"
   },
   "outputs": [],
   "source": [
    "import pandas as pd\n",
    "from sklearn.feature_extraction.text import TfidfVectorizer\n",
    "from transformers import AutoTokenizer, AutoModelForSequenceClassification\n",
    "from gensim.models import LdaModel\n",
    "from gensim.models.nmf import Nmf\n",
    "from gensim.models.coherencemodel import CoherenceModel\n",
    "import numpy as np\n",
    "\n",
    "df = pd.read_excel('part-2.xlsx')"
   ]
  },
  {
   "cell_type": "code",
   "execution_count": 183,
   "metadata": {
    "id": "WQv7dixZiJnV"
   },
   "outputs": [],
   "source": [
    "from transformers import AutoTokenizer, AutoModel\n",
    "import torch\n",
    "from sklearn.decomposition import LatentDirichletAllocation\n",
    "from sklearn.cluster import KMeans\n",
    "from sklearn.preprocessing import StandardScaler\n",
    "from sklearn.neural_network import MLPRegressor"
   ]
  },
  {
   "cell_type": "code",
   "execution_count": 184,
   "metadata": {
    "colab": {
     "base_uri": "https://localhost:8080/"
    },
    "id": "xp1MvzGs9wvM",
    "outputId": "efb9cac8-0ad2-4dbb-f65d-54b5f43d0061"
   },
   "outputs": [
    {
     "name": "stdout",
     "output_type": "stream",
     "text": [
      "0       0\n",
      "1       0\n",
      "2       0\n",
      "3       0\n",
      "4       0\n",
      "       ..\n",
      "6864    0\n",
      "6865    0\n",
      "6866    0\n",
      "6867    0\n",
      "6868    0\n",
      "Length: 6869, dtype: int64\n"
     ]
    }
   ],
   "source": [
    "df1 = df[['Head Line', 'Review', 'Places', 'Destination']]\n",
    "df1 = df1.dropna(how='all', inplace=False)\n",
    "null_rows = df1.isnull().sum(axis=1)\n",
    "print(null_rows)\n",
    "df1 = df1[null_rows == 0]"
   ]
  },
  {
   "cell_type": "code",
   "execution_count": 185,
   "metadata": {
    "id": "EGPOu_uN-Kwc"
   },
   "outputs": [],
   "source": [
    "def preprocess_text(text):\n",
    "  text = text.lower()\n",
    "  text = text.replace('\\n', ' ')\n",
    "  text = text.replace('_x000d_', ' ')\n",
    "  text = text.replace(',', ' ')\n",
    "  text = text.replace('.', ' ')\n",
    "  text = text.replace('?', ' ')\n",
    "  text = text.replace('!', ' ')\n",
    "  text = text.replace(';', ' ')\n",
    "  text = text.replace(':', ' ')\n",
    "  text = text.replace('(', ' ')\n",
    "  text = text.replace(')', ' ')\n",
    "  return text\n",
    "\n",
    "df['Review'] = df['Review'].astype(str)\n",
    "df['Review'] = df['Review'].apply(preprocess_text)\n",
    "df1['Review']= df['Review'][df['Destination'] == 'Mysore']\n",
    "\n"
   ]
  },
  {
   "cell_type": "code",
   "execution_count": 186,
   "metadata": {
    "id": "0jqn3t-HPwbt"
   },
   "outputs": [],
   "source": [
    "# reviews_df=df1[:100]"
   ]
  },
  {
   "cell_type": "code",
   "execution_count": 187,
   "metadata": {
    "colab": {
     "base_uri": "https://localhost:8080/",
     "height": 460
    },
    "id": "W-uf8yMOFHNZ",
    "outputId": "1faf0116-c349-4791-ab35-d47e44ac7d4d"
   },
   "outputs": [
    {
     "data": {
      "text/html": [
       "<div>\n",
       "<style scoped>\n",
       "    .dataframe tbody tr th:only-of-type {\n",
       "        vertical-align: middle;\n",
       "    }\n",
       "\n",
       "    .dataframe tbody tr th {\n",
       "        vertical-align: top;\n",
       "    }\n",
       "\n",
       "    .dataframe thead th {\n",
       "        text-align: right;\n",
       "    }\n",
       "</style>\n",
       "<table border=\"1\" class=\"dataframe\">\n",
       "  <thead>\n",
       "    <tr style=\"text-align: right;\">\n",
       "      <th></th>\n",
       "      <th>Head Line</th>\n",
       "      <th>Review</th>\n",
       "      <th>Places</th>\n",
       "      <th>Destination</th>\n",
       "    </tr>\n",
       "  </thead>\n",
       "  <tbody>\n",
       "    <tr>\n",
       "      <th>0</th>\n",
       "      <td>“Clean, inviting zoo with a wide range of anim...</td>\n",
       "      <td>this is an excellent zoo  they have a number o...</td>\n",
       "      <td>Sri Chamarajendra Zoological Gardens Mysore Zoo</td>\n",
       "      <td>Mysore</td>\n",
       "    </tr>\n",
       "    <tr>\n",
       "      <th>1</th>\n",
       "      <td>“Better to visit in Morning or Evening”</td>\n",
       "      <td>size  considerably large  by normal walk it ta...</td>\n",
       "      <td>Sri Chamarajendra Zoological Gardens Mysore Zoo</td>\n",
       "      <td>Mysore</td>\n",
       "    </tr>\n",
       "    <tr>\n",
       "      <th>2</th>\n",
       "      <td>“Must visit place in mysore”</td>\n",
       "      <td>this is definitely the best zoo i hv visited i...</td>\n",
       "      <td>Sri Chamarajendra Zoological Gardens Mysore Zoo</td>\n",
       "      <td>Mysore</td>\n",
       "    </tr>\n",
       "    <tr>\n",
       "      <th>3</th>\n",
       "      <td>“Nice to visit”</td>\n",
       "      <td>we visited the zoo with a lot of expectations ...</td>\n",
       "      <td>Sri Chamarajendra Zoological Gardens Mysore Zoo</td>\n",
       "      <td>Mysore</td>\n",
       "    </tr>\n",
       "    <tr>\n",
       "      <th>4</th>\n",
       "      <td>“Clean zoo, amazing animals .”</td>\n",
       "      <td>to know that this is not a govt run zoo is ama...</td>\n",
       "      <td>Sri Chamarajendra Zoological Gardens Mysore Zoo</td>\n",
       "      <td>Mysore</td>\n",
       "    </tr>\n",
       "  </tbody>\n",
       "</table>\n",
       "</div>"
      ],
      "text/plain": [
       "                                           Head Line  \\\n",
       "0  “Clean, inviting zoo with a wide range of anim...   \n",
       "1            “Better to visit in Morning or Evening”   \n",
       "2                       “Must visit place in mysore”   \n",
       "3                                    “Nice to visit”   \n",
       "4                     “Clean zoo, amazing animals .”   \n",
       "\n",
       "                                              Review  \\\n",
       "0  this is an excellent zoo  they have a number o...   \n",
       "1  size  considerably large  by normal walk it ta...   \n",
       "2  this is definitely the best zoo i hv visited i...   \n",
       "3  we visited the zoo with a lot of expectations ...   \n",
       "4  to know that this is not a govt run zoo is ama...   \n",
       "\n",
       "                                            Places Destination  \n",
       "0  Sri Chamarajendra Zoological Gardens Mysore Zoo      Mysore  \n",
       "1  Sri Chamarajendra Zoological Gardens Mysore Zoo      Mysore  \n",
       "2  Sri Chamarajendra Zoological Gardens Mysore Zoo      Mysore  \n",
       "3  Sri Chamarajendra Zoological Gardens Mysore Zoo      Mysore  \n",
       "4  Sri Chamarajendra Zoological Gardens Mysore Zoo      Mysore  "
      ]
     },
     "execution_count": 187,
     "metadata": {},
     "output_type": "execute_result"
    }
   ],
   "source": [
    "reviews_df.head()"
   ]
  },
  {
   "cell_type": "markdown",
   "metadata": {
    "id": "K9RFOeZyGMb_"
   },
   "source": [
    "### Task 2: Normalize casings for the review text and extract the text into a list for easier manipulation"
   ]
  },
  {
   "cell_type": "code",
   "execution_count": 188,
   "metadata": {
    "colab": {
     "base_uri": "https://localhost:8080/"
    },
    "id": "0DfrYp4-FSY2",
    "outputId": "459e975c-53fe-446c-eb03-af20e24f3b2a"
   },
   "outputs": [
    {
     "data": {
      "text/plain": [
       "['this is an excellent zoo  they have a number of large cats  large mammals  and snakes  the zoo is quite large  so we took the electric car  this can get pricey if you are traveling in a group  however  it allows you to see the exhibits in a quick manner      no plastic bags or containers are allowed into the zoo  they will cut open your snack bags and place the snacks into a newspaper cone      parking is available directly across the street from the main entrance ',\n",
       " 'size  considerably large  by normal walk it takes around to 45 mins in average to complete the tour    animals  monkeys  leopard  tiger  white tiger  lion  wild buffaloes  zebra  chimpanzee  deers  hippopotamus  rhinoceros  snakes  elephants  bear  etc  and lastly you can see the tall magnificent giraffes    birds  you can find many    visit time  ticket counter opens after 8 30 am   ticket price  adult  rs 60    note  plastic stuffs not allowed  they will put a sticker by paying rs 10 refundable    cleanliness  standardly clean but not super clean    you can hangout here sometimes to get peace of mind ',\n",
       " 'this is definitely the best zoo i hv visited in india   very well maintained   n animals r so close n still u dont feel so scared   enjoyed every sec of my visit   hatts off the management',\n",
       " \"we visited the zoo with a lot of expectations but alas it was not up to the mark  may be an after effect of jungle safari wild animals doesn't look good in zoo    but content wise one of the best zoo in india as you can find almost all the animals here    a must visit for kids \",\n",
       " 'to know that this is not a govt run zoo is amazing  the animals are not kept in cramped enclosures  but left to wander in a large earmarked space   the names of the sponsors are highlighted in the front of the enclosures   surely the zoo is run on such contributions  the zoo is clean and does not have a foul smell anywhere   the trees protect you from the sun and also lets you feel that you are in some part of a jungle  in reality  this zoo is in the center of the town   the variety of the animals make you look eagerly around the corner for the next one  after a long but interesting walk of over 4 kms   when you seem to get tired  you are charged up by the king of the jungle - the lion and lioness will cheer you up and put all the energies back   the giraffee will see you off at the end leaving you fascinated by those exotic animals in the center of the city   ']"
      ]
     },
     "execution_count": 188,
     "metadata": {},
     "output_type": "execute_result"
    }
   ],
   "source": [
    "#  Normalize the text - reduce to lower case\n",
    "review_list = [review.lower() for review in reviews_df[\"Review\"]]\n",
    "review_list[:5]"
   ]
  },
  {
   "cell_type": "markdown",
   "metadata": {
    "id": "sq_H4EG-GThf"
   },
   "source": [
    "### Task 3:Tokenize the reviews using NLTKs word_tokenize function."
   ]
  },
  {
   "cell_type": "code",
   "execution_count": 189,
   "metadata": {
    "colab": {
     "base_uri": "https://localhost:8080/"
    },
    "id": "XxkDeBPrFeZ8",
    "outputId": "a7565ee4-3b2f-4324-f9cc-7cde304b4915"
   },
   "outputs": [
    {
     "name": "stdout",
     "output_type": "stream",
     "text": [
      "[['this', 'is', 'an', 'excellent', 'zoo', 'they', 'have', 'a', 'number', 'of', 'large', 'cats', 'large', 'mammals', 'and', 'snakes', 'the', 'zoo', 'is', 'quite', 'large', 'so', 'we', 'took', 'the', 'electric', 'car', 'this', 'can', 'get', 'pricey', 'if', 'you', 'are', 'traveling', 'in', 'a', 'group', 'however', 'it', 'allows', 'you', 'to', 'see', 'the', 'exhibits', 'in', 'a', 'quick', 'manner', 'no', 'plastic', 'bags', 'or', 'containers', 'are', 'allowed', 'into', 'the', 'zoo', 'they', 'will', 'cut', 'open', 'your', 'snack', 'bags', 'and', 'place', 'the', 'snacks', 'into', 'a', 'newspaper', 'cone', 'parking', 'is', 'available', 'directly', 'across', 'the', 'street', 'from', 'the', 'main', 'entrance'], ['size', 'considerably', 'large', 'by', 'normal', 'walk', 'it', 'takes', 'around', 'to', '45', 'mins', 'in', 'average', 'to', 'complete', 'the', 'tour', 'animals', 'monkeys', 'leopard', 'tiger', 'white', 'tiger', 'lion', 'wild', 'buffaloes', 'zebra', 'chimpanzee', 'deers', 'hippopotamus', 'rhinoceros', 'snakes', 'elephants', 'bear', 'etc', 'and', 'lastly', 'you', 'can', 'see', 'the', 'tall', 'magnificent', 'giraffes', 'birds', 'you', 'can', 'find', 'many', 'visit', 'time', 'ticket', 'counter', 'opens', 'after', '8', '30', 'am', 'ticket', 'price', 'adult', 'rs', '60', 'note', 'plastic', 'stuffs', 'not', 'allowed', 'they', 'will', 'put', 'a', 'sticker', 'by', 'paying', 'rs', '10', 'refundable', 'cleanliness', 'standardly', 'clean', 'but', 'not', 'super', 'clean', 'you', 'can', 'hangout', 'here', 'sometimes', 'to', 'get', 'peace', 'of', 'mind'], ['this', 'is', 'definitely', 'the', 'best', 'zoo', 'i', 'hv', 'visited', 'in', 'india', 'very', 'well', 'maintained', 'n', 'animals', 'r', 'so', 'close', 'n', 'still', 'u', 'dont', 'feel', 'so', 'scared', 'enjoyed', 'every', 'sec', 'of', 'my', 'visit', 'hatts', 'off', 'the', 'management'], ['we', 'visited', 'the', 'zoo', 'with', 'a', 'lot', 'of', 'expectations', 'but', 'alas', 'it', 'was', 'not', 'up', 'to', 'the', 'mark', 'may', 'be', 'an', 'after', 'effect', 'of', 'jungle', 'safari', 'wild', 'animals', 'does', \"n't\", 'look', 'good', 'in', 'zoo', 'but', 'content', 'wise', 'one', 'of', 'the', 'best', 'zoo', 'in', 'india', 'as', 'you', 'can', 'find', 'almost', 'all', 'the', 'animals', 'here', 'a', 'must', 'visit', 'for', 'kids'], ['to', 'know', 'that', 'this', 'is', 'not', 'a', 'govt', 'run', 'zoo', 'is', 'amazing', 'the', 'animals', 'are', 'not', 'kept', 'in', 'cramped', 'enclosures', 'but', 'left', 'to', 'wander', 'in', 'a', 'large', 'earmarked', 'space', 'the', 'names', 'of', 'the', 'sponsors', 'are', 'highlighted', 'in', 'the', 'front', 'of', 'the', 'enclosures', 'surely', 'the', 'zoo', 'is', 'run', 'on', 'such', 'contributions', 'the', 'zoo', 'is', 'clean', 'and', 'does', 'not', 'have', 'a', 'foul', 'smell', 'anywhere', 'the', 'trees', 'protect', 'you', 'from', 'the', 'sun', 'and', 'also', 'lets', 'you', 'feel', 'that', 'you', 'are', 'in', 'some', 'part', 'of', 'a', 'jungle', 'in', 'reality', 'this', 'zoo', 'is', 'in', 'the', 'center', 'of', 'the', 'town', 'the', 'variety', 'of', 'the', 'animals', 'make', 'you', 'look', 'eagerly', 'around', 'the', 'corner', 'for', 'the', 'next', 'one', 'after', 'a', 'long', 'but', 'interesting', 'walk', 'of', 'over', '4', 'kms', 'when', 'you', 'seem', 'to', 'get', 'tired', 'you', 'are', 'charged', 'up', 'by', 'the', 'king', 'of', 'the', 'jungle', '-', 'the', 'lion', 'and', 'lioness', 'will', 'cheer', 'you', 'up', 'and', 'put', 'all', 'the', 'energies', 'back', 'the', 'giraffee', 'will', 'see', 'you', 'off', 'at', 'the', 'end', 'leaving', 'you', 'fascinated', 'by', 'those', 'exotic', 'animals', 'in', 'the', 'center', 'of', 'the', 'city']]\n"
     ]
    }
   ],
   "source": [
    "# Tokenize the reviews\n",
    "\n",
    "rev_words = [word_tokenize(review) for review in review_list]\n",
    "print(rev_words[:5])"
   ]
  },
  {
   "cell_type": "code",
   "execution_count": 190,
   "metadata": {
    "colab": {
     "base_uri": "https://localhost:8080/"
    },
    "id": "L8EFL3IDGYxU",
    "outputId": "20f2030f-9653-4e27-ca2b-056e588bee4b"
   },
   "outputs": [
    {
     "name": "stdout",
     "output_type": "stream",
     "text": [
      "100\n",
      "[[('this', 'DT'), ('is', 'VBZ'), ('an', 'DT'), ('excellent', 'JJ'), ('zoo', 'NN'), ('they', 'PRP'), ('have', 'VBP'), ('a', 'DT'), ('number', 'NN'), ('of', 'IN'), ('large', 'JJ'), ('cats', 'NNS'), ('large', 'JJ'), ('mammals', 'NNS'), ('and', 'CC'), ('snakes', 'VBZ'), ('the', 'DT'), ('zoo', 'NN'), ('is', 'VBZ'), ('quite', 'RB'), ('large', 'JJ'), ('so', 'IN'), ('we', 'PRP'), ('took', 'VBD'), ('the', 'DT'), ('electric', 'JJ'), ('car', 'NN'), ('this', 'DT'), ('can', 'MD'), ('get', 'VB'), ('pricey', 'VB'), ('if', 'IN'), ('you', 'PRP'), ('are', 'VBP'), ('traveling', 'VBG'), ('in', 'IN'), ('a', 'DT'), ('group', 'NN'), ('however', 'RB'), ('it', 'PRP'), ('allows', 'VBZ'), ('you', 'PRP'), ('to', 'TO'), ('see', 'VB'), ('the', 'DT'), ('exhibits', 'NNS'), ('in', 'IN'), ('a', 'DT'), ('quick', 'JJ'), ('manner', 'NN'), ('no', 'DT'), ('plastic', 'NN'), ('bags', 'NNS'), ('or', 'CC'), ('containers', 'NNS'), ('are', 'VBP'), ('allowed', 'VBN'), ('into', 'IN'), ('the', 'DT'), ('zoo', 'NN'), ('they', 'PRP'), ('will', 'MD'), ('cut', 'VB'), ('open', 'JJ'), ('your', 'PRP$'), ('snack', 'NN'), ('bags', 'NNS'), ('and', 'CC'), ('place', 'NN'), ('the', 'DT'), ('snacks', 'NNS'), ('into', 'IN'), ('a', 'DT'), ('newspaper', 'NN'), ('cone', 'NN'), ('parking', 'NN'), ('is', 'VBZ'), ('available', 'JJ'), ('directly', 'RB'), ('across', 'IN'), ('the', 'DT'), ('street', 'NN'), ('from', 'IN'), ('the', 'DT'), ('main', 'JJ'), ('entrance', 'NN')], [('size', 'NN'), ('considerably', 'RB'), ('large', 'JJ'), ('by', 'IN'), ('normal', 'JJ'), ('walk', 'NN'), ('it', 'PRP'), ('takes', 'VBZ'), ('around', 'IN'), ('to', 'TO'), ('45', 'CD'), ('mins', 'NNS'), ('in', 'IN'), ('average', 'JJ'), ('to', 'TO'), ('complete', 'VB'), ('the', 'DT'), ('tour', 'NN'), ('animals', 'NNS'), ('monkeys', 'VBP'), ('leopard', 'RB'), ('tiger', 'JJR'), ('white', 'JJ'), ('tiger', 'NN'), ('lion', 'NN'), ('wild', 'NN'), ('buffaloes', 'NNS'), ('zebra', 'VBP'), ('chimpanzee', 'JJ'), ('deers', 'NNS'), ('hippopotamus', 'VBP'), ('rhinoceros', 'JJ'), ('snakes', 'NNS'), ('elephants', 'NNS'), ('bear', 'VBP'), ('etc', 'NN'), ('and', 'CC'), ('lastly', 'RB'), ('you', 'PRP'), ('can', 'MD'), ('see', 'VB'), ('the', 'DT'), ('tall', 'JJ'), ('magnificent', 'NN'), ('giraffes', 'NN'), ('birds', 'IN'), ('you', 'PRP'), ('can', 'MD'), ('find', 'VB'), ('many', 'JJ'), ('visit', 'NN'), ('time', 'NN'), ('ticket', 'NN'), ('counter', 'NN'), ('opens', 'VBZ'), ('after', 'IN'), ('8', 'CD'), ('30', 'CD'), ('am', 'VBP'), ('ticket', 'JJ'), ('price', 'NN'), ('adult', 'NN'), ('rs', 'VBD'), ('60', 'CD'), ('note', 'NN'), ('plastic', 'NN'), ('stuffs', 'NNS'), ('not', 'RB'), ('allowed', 'VBN'), ('they', 'PRP'), ('will', 'MD'), ('put', 'VB'), ('a', 'DT'), ('sticker', 'NN'), ('by', 'IN'), ('paying', 'VBG'), ('rs', 'JJ'), ('10', 'CD'), ('refundable', 'JJ'), ('cleanliness', 'NN'), ('standardly', 'RB'), ('clean', 'JJ'), ('but', 'CC'), ('not', 'RB'), ('super', 'JJ'), ('clean', 'NN'), ('you', 'PRP'), ('can', 'MD'), ('hangout', 'VB'), ('here', 'RB'), ('sometimes', 'RB'), ('to', 'TO'), ('get', 'VB'), ('peace', 'NN'), ('of', 'IN'), ('mind', 'NN')], [('this', 'DT'), ('is', 'VBZ'), ('definitely', 'RB'), ('the', 'DT'), ('best', 'JJS'), ('zoo', 'NN'), ('i', 'NN'), ('hv', 'VBP'), ('visited', 'VBN'), ('in', 'IN'), ('india', 'JJ'), ('very', 'RB'), ('well', 'RB'), ('maintained', 'VBN'), ('n', 'JJ'), ('animals', 'NNS'), ('r', 'VBP'), ('so', 'RB'), ('close', 'JJ'), ('n', 'NNS'), ('still', 'RB'), ('u', 'VBP'), ('dont', 'JJ'), ('feel', 'NN'), ('so', 'RB'), ('scared', 'JJ'), ('enjoyed', 'VBN'), ('every', 'DT'), ('sec', 'NN'), ('of', 'IN'), ('my', 'PRP$'), ('visit', 'NN'), ('hatts', 'VBD'), ('off', 'RP'), ('the', 'DT'), ('management', 'NN')], [('we', 'PRP'), ('visited', 'VBD'), ('the', 'DT'), ('zoo', 'NN'), ('with', 'IN'), ('a', 'DT'), ('lot', 'NN'), ('of', 'IN'), ('expectations', 'NNS'), ('but', 'CC'), ('alas', 'VBP'), ('it', 'PRP'), ('was', 'VBD'), ('not', 'RB'), ('up', 'RB'), ('to', 'TO'), ('the', 'DT'), ('mark', 'NN'), ('may', 'MD'), ('be', 'VB'), ('an', 'DT'), ('after', 'IN'), ('effect', 'NN'), ('of', 'IN'), ('jungle', 'NN'), ('safari', 'NN'), ('wild', 'JJ'), ('animals', 'NNS'), ('does', 'VBZ'), (\"n't\", 'RB'), ('look', 'VB'), ('good', 'JJ'), ('in', 'IN'), ('zoo', 'NN'), ('but', 'CC'), ('content', 'JJ'), ('wise', 'NN'), ('one', 'CD'), ('of', 'IN'), ('the', 'DT'), ('best', 'JJS'), ('zoo', 'NN'), ('in', 'IN'), ('india', 'NN'), ('as', 'IN'), ('you', 'PRP'), ('can', 'MD'), ('find', 'VB'), ('almost', 'RB'), ('all', 'PDT'), ('the', 'DT'), ('animals', 'NNS'), ('here', 'RB'), ('a', 'DT'), ('must', 'MD'), ('visit', 'VB'), ('for', 'IN'), ('kids', 'NNS')], [('to', 'TO'), ('know', 'VB'), ('that', 'IN'), ('this', 'DT'), ('is', 'VBZ'), ('not', 'RB'), ('a', 'DT'), ('govt', 'NN'), ('run', 'NN'), ('zoo', 'NN'), ('is', 'VBZ'), ('amazing', 'VBG'), ('the', 'DT'), ('animals', 'NNS'), ('are', 'VBP'), ('not', 'RB'), ('kept', 'VBN'), ('in', 'IN'), ('cramped', 'JJ'), ('enclosures', 'NNS'), ('but', 'CC'), ('left', 'VBD'), ('to', 'TO'), ('wander', 'VB'), ('in', 'IN'), ('a', 'DT'), ('large', 'JJ'), ('earmarked', 'JJ'), ('space', 'NN'), ('the', 'DT'), ('names', 'NNS'), ('of', 'IN'), ('the', 'DT'), ('sponsors', 'NNS'), ('are', 'VBP'), ('highlighted', 'VBN'), ('in', 'IN'), ('the', 'DT'), ('front', 'NN'), ('of', 'IN'), ('the', 'DT'), ('enclosures', 'NNS'), ('surely', 'RB'), ('the', 'DT'), ('zoo', 'NN'), ('is', 'VBZ'), ('run', 'VBN'), ('on', 'IN'), ('such', 'JJ'), ('contributions', 'NNS'), ('the', 'DT'), ('zoo', 'NN'), ('is', 'VBZ'), ('clean', 'JJ'), ('and', 'CC'), ('does', 'VBZ'), ('not', 'RB'), ('have', 'VB'), ('a', 'DT'), ('foul', 'NN'), ('smell', 'NN'), ('anywhere', 'RB'), ('the', 'DT'), ('trees', 'NNS'), ('protect', 'VBP'), ('you', 'PRP'), ('from', 'IN'), ('the', 'DT'), ('sun', 'NN'), ('and', 'CC'), ('also', 'RB'), ('lets', 'VBZ'), ('you', 'PRP'), ('feel', 'VB'), ('that', 'IN'), ('you', 'PRP'), ('are', 'VBP'), ('in', 'IN'), ('some', 'DT'), ('part', 'NN'), ('of', 'IN'), ('a', 'DT'), ('jungle', 'NN'), ('in', 'IN'), ('reality', 'NN'), ('this', 'DT'), ('zoo', 'NN'), ('is', 'VBZ'), ('in', 'IN'), ('the', 'DT'), ('center', 'NN'), ('of', 'IN'), ('the', 'DT'), ('town', 'NN'), ('the', 'DT'), ('variety', 'NN'), ('of', 'IN'), ('the', 'DT'), ('animals', 'NNS'), ('make', 'VBP'), ('you', 'PRP'), ('look', 'VBP'), ('eagerly', 'RB'), ('around', 'IN'), ('the', 'DT'), ('corner', 'NN'), ('for', 'IN'), ('the', 'DT'), ('next', 'JJ'), ('one', 'NN'), ('after', 'IN'), ('a', 'DT'), ('long', 'JJ'), ('but', 'CC'), ('interesting', 'JJ'), ('walk', 'NN'), ('of', 'IN'), ('over', 'IN'), ('4', 'CD'), ('kms', 'NNS'), ('when', 'WRB'), ('you', 'PRP'), ('seem', 'VBP'), ('to', 'TO'), ('get', 'VB'), ('tired', 'VBN'), ('you', 'PRP'), ('are', 'VBP'), ('charged', 'VBN'), ('up', 'RP'), ('by', 'IN'), ('the', 'DT'), ('king', 'NN'), ('of', 'IN'), ('the', 'DT'), ('jungle', 'NN'), ('-', ':'), ('the', 'DT'), ('lion', 'NN'), ('and', 'CC'), ('lioness', 'NN'), ('will', 'MD'), ('cheer', 'VB'), ('you', 'PRP'), ('up', 'RP'), ('and', 'CC'), ('put', 'VB'), ('all', 'PDT'), ('the', 'DT'), ('energies', 'NNS'), ('back', 'RP'), ('the', 'DT'), ('giraffee', 'NN'), ('will', 'MD'), ('see', 'VB'), ('you', 'PRP'), ('off', 'RP'), ('at', 'IN'), ('the', 'DT'), ('end', 'NN'), ('leaving', 'VBG'), ('you', 'PRP'), ('fascinated', 'VBN'), ('by', 'IN'), ('those', 'DT'), ('exotic', 'JJ'), ('animals', 'NNS'), ('in', 'IN'), ('the', 'DT'), ('center', 'NN'), ('of', 'IN'), ('the', 'DT'), ('city', 'NN')]]\n"
     ]
    }
   ],
   "source": [
    "# POS tagging using NLTK pos tagger\n",
    "pos_tagged_review = [pos_tag(review) for review in rev_words]\n",
    "print(len(pos_tagged_review))\n",
    "print(pos_tagged_review[:5])"
   ]
  },
  {
   "cell_type": "code",
   "execution_count": 191,
   "metadata": {
    "colab": {
     "base_uri": "https://localhost:8080/"
    },
    "id": "TWweFuIIHnPz",
    "outputId": "41776943-ed3e-4c10-a02b-aa60986b839f"
   },
   "outputs": [
    {
     "name": "stdout",
     "output_type": "stream",
     "text": [
      "NN: noun, common, singular or mass\n",
      "    common-carrier cabbage knuckle-duster Casino afghan shed thermostat\n",
      "    investment slide humour falloff slick wind hyena override subhumanity\n",
      "    machinist ...\n",
      "NNP: noun, proper, singular\n",
      "    Motown Venneboerger Czestochwa Ranzer Conchita Trumplane Christos\n",
      "    Oceanside Escobar Kreisler Sawyer Cougar Yvette Ervin ODI Darryl CTCA\n",
      "    Shannon A.K.C. Meltex Liverpool ...\n",
      "NNPS: noun, proper, plural\n",
      "    Americans Americas Amharas Amityvilles Amusements Anarcho-Syndicalists\n",
      "    Andalusians Andes Andruses Angels Animals Anthony Antilles Antiques\n",
      "    Apache Apaches Apocrypha ...\n",
      "NNS: noun, common, plural\n",
      "    undergraduates scotches bric-a-brac products bodyguards facets coasts\n",
      "    divestitures storehouses designs clubs fragrances averages\n",
      "    subjectivists apprehensions muses factory-jobs ...\n"
     ]
    }
   ],
   "source": [
    "nltk.help.upenn_tagset(tagpattern='NN*')"
   ]
  },
  {
   "cell_type": "code",
   "execution_count": 192,
   "metadata": {
    "colab": {
     "base_uri": "https://localhost:8080/"
    },
    "id": "9_lcncwqHy-a",
    "outputId": "cd263355-7fd5-4b12-ba2f-d52f2e297622"
   },
   "outputs": [
    {
     "name": "stdout",
     "output_type": "stream",
     "text": [
      "[[('zoo', 'NN'), ('number', 'NN'), ('cats', 'NNS'), ('mammals', 'NNS'), ('zoo', 'NN'), ('car', 'NN'), ('group', 'NN'), ('exhibits', 'NNS'), ('manner', 'NN'), ('plastic', 'NN'), ('bags', 'NNS'), ('containers', 'NNS'), ('zoo', 'NN'), ('snack', 'NN'), ('bags', 'NNS'), ('place', 'NN'), ('snacks', 'NNS'), ('newspaper', 'NN'), ('cone', 'NN'), ('parking', 'NN'), ('street', 'NN'), ('entrance', 'NN')], [('size', 'NN'), ('walk', 'NN'), ('mins', 'NNS'), ('tour', 'NN'), ('animals', 'NNS'), ('tiger', 'NN'), ('lion', 'NN'), ('wild', 'NN'), ('buffaloes', 'NNS'), ('deers', 'NNS'), ('snakes', 'NNS'), ('elephants', 'NNS'), ('etc', 'NN'), ('magnificent', 'NN'), ('giraffes', 'NN'), ('visit', 'NN'), ('time', 'NN'), ('ticket', 'NN'), ('counter', 'NN'), ('price', 'NN'), ('adult', 'NN'), ('note', 'NN'), ('plastic', 'NN'), ('stuffs', 'NNS'), ('sticker', 'NN'), ('cleanliness', 'NN'), ('clean', 'NN'), ('peace', 'NN'), ('mind', 'NN')], [('zoo', 'NN'), ('i', 'NN'), ('animals', 'NNS'), ('n', 'NNS'), ('feel', 'NN'), ('sec', 'NN'), ('visit', 'NN'), ('management', 'NN')], [('zoo', 'NN'), ('lot', 'NN'), ('expectations', 'NNS'), ('mark', 'NN'), ('effect', 'NN'), ('jungle', 'NN'), ('safari', 'NN'), ('animals', 'NNS'), ('zoo', 'NN'), ('wise', 'NN'), ('zoo', 'NN'), ('india', 'NN'), ('animals', 'NNS'), ('kids', 'NNS')], [('govt', 'NN'), ('run', 'NN'), ('zoo', 'NN'), ('animals', 'NNS'), ('enclosures', 'NNS'), ('space', 'NN'), ('names', 'NNS'), ('sponsors', 'NNS'), ('front', 'NN'), ('enclosures', 'NNS'), ('zoo', 'NN'), ('contributions', 'NNS'), ('zoo', 'NN'), ('foul', 'NN'), ('smell', 'NN'), ('trees', 'NNS'), ('sun', 'NN'), ('part', 'NN'), ('jungle', 'NN'), ('reality', 'NN'), ('zoo', 'NN'), ('center', 'NN'), ('town', 'NN'), ('variety', 'NN'), ('animals', 'NNS'), ('corner', 'NN'), ('one', 'NN'), ('walk', 'NN'), ('kms', 'NNS'), ('king', 'NN'), ('jungle', 'NN'), ('lion', 'NN'), ('lioness', 'NN'), ('energies', 'NNS'), ('giraffee', 'NN'), ('end', 'NN'), ('animals', 'NNS'), ('center', 'NN'), ('city', 'NN')], [('zoos', 'NN'), ('i', 'NN'), ('spread', 'NN'), ('landscape', 'NN'), ('variety', 'NN'), ('species', 'NNS'), ('birds', 'NNS'), ('treat', 'NN'), ('cats', 'NNS'), ('tigers', 'NNS'), ('lions', 'NNS'), ('leopards', 'NNS'), ('ape', 'NN'), ('family', 'NN'), ('gorillas', 'NNS'), ('orangutans', 'NNS'), ('others', 'NNS'), ('hours', 'NNS'), ('hand', 'NN'), ('tour', 'NN'), ('zoo', 'NN'), ('cart', 'NN'), ('walking', 'NN'), ('heat', 'NN'), ('age', 'NN'), ('groups', 'NNS')], [('country', 'NN'), ('visit', 'NN'), ('animals', 'NNS'), ('nameplates', 'NNS')], [('country', 'NN'), ('visit', 'NN'), ('animals', 'NNS'), ('nameplates', 'NNS')], [('experience', 'NN'), ('zoo', 'NN'), ('post', 'NN'), ('driving', 'NN'), ('bit', 'NN'), ('zoo', 'NN'), ('stretch', 'NN'), ('zoo', 'NN'), ('variety', 'NN'), ('animals', 'NNS'), ('reptiles', 'NNS'), ('birds', 'NNS'), ('place', 'NN'), ('mysore', 'NN')], [('zoos', 'NN'), ('country', 'NN'), ('tour', 'NN'), ('campus', 'NN'), ('golf', 'NN'), ('cart', 'NN'), ('variety', 'NN'), ('animals', 'NNS'), ('section', 'NN'), ('birds', 'NNS'), ('part', 'NN'), ('feel', 'NN'), ('birds', 'NNS')], [('zoos', 'NN'), ('country', 'NN'), ('tour', 'NN'), ('campus', 'NN'), ('golf', 'NN'), ('cart', 'NN'), ('variety', 'NN'), ('animals', 'NNS'), ('section', 'NN'), ('birds', 'NNS'), ('part', 'NN'), ('feel', 'NN'), ('birds', 'NNS')], [('place', 'NN'), ('kids', 'NNS'), ('zoo', 'NN'), ('variety', 'NN'), ('animals', 'NNS'), ('birds', 'NNS'), ('place', 'NN'), ('greenery', 'NN'), ('day', 'NN'), ('umbrella', 'NN'), ('cover', 'NN'), ('kids', 'NNS'), ('place', 'NN'), ('animals', 'NNS'), ('cartoons', 'NNS'), ('movies', 'NNS'), ('discovery', 'NN'), ('channel', 'NN')], [('park', 'NN'), ('country', 'NN'), ('globe', 'NN'), ('elephants', 'NNS'), ('gorillas', 'NNS'), ('zebra', 'NN'), ('giraffe', 'NN'), ('premises', 'NNS'), ('utmost', 'NN'), ('levels', 'NNS'), ('creatures', 'NNS'), ('please', 'NN'), ('prefer', 'NN'), ('km', 'NNS'), ('golf', 'NN'), ('cart', 'NN'), ('park', 'NN')], [('place', 'NN'), ('kids', 'NNS'), ('restaurants', 'NNS')], [('thing', 'NN'), ('singapore', 'NN'), ('zoo', 'NN'), ('world', 'NN'), ('zoo', 'NN'), ('zoo', 'NN'), ('smell', 'NN'), ('experiences', 'NNS'), ('india', 'NN'), ('zoo', 'NN'), ('day', 'NN'), ('noon', 'NN'), ('hour', 'NN'), ('tickets', 'NNS'), ('time', 'NN'), ('car', 'NN'), ('facility', 'NN'), ('day', 'NN'), ('zoo', 'NN'), ('species', 'NNS'), ('animals', 'NNS'), ('cats', 'NNS'), ('i', 'NNS'), ('giraffe', 'NN'), ('rhino', 'NN'), ('cats', 'NNS'), ('chimpanzee', 'NN'), ('enclosures', 'NNS'), ('lane', 'NN'), ('km', 'NN'), ('walk', 'NN'), ('enclosures', 'NNS'), ('close', 'NN'), ('km', 'NN'), ('i', 'NN'), ('zoo', 'NN'), ('authorities', 'NNS'), ('chair', 'NN'), ('people/tourists', 'NNS'), ('teasing', 'NN'), ('note', 'NN'), ('visitors', 'NNS'), ('plan', 'NN'), ('time', 'NN'), ('food', 'NN'), ('baby', 'NN'), ('start', 'NN'), ('right', 'NN'), ('breakfast', 'NN'), ('energy', 'NN'), ('end', 'NN'), ('walk', 'NN')], [('green', 'NN'), ('work', 'NN'), ('authorities', 'NNS'), ('collection', 'NN'), ('animals', 'NNS'), ('reptiles', 'NNS'), ('visit', 'NN')], [('i', 'NN'), ('zoo', 'NN'), ('years', 'NNS'), ('way', 'NN'), ('feeling', 'NN'), ('i', 'NN'), ('life', 'NN'), ('sanctuary', 'NN'), ('i', 'NN'), ('animals', 'NNS'), ('feeling', 'NN'), ('zoo', 'NN'), ('zoo', 'NN'), ('stench', 'NN'), ('variety', 'NN'), ('birds', 'NNS'), ('fowl', 'NN'), ('parakeets', 'NNS'), ('peacock', 'NN'), ('etc', 'NN'), ('game', 'NN'), ('animals', 'NNS'), ('variety', 'NN'), ('deer', 'NN'), ('zebra', 'NN'), ('giraffe', 'NN'), ('rhino', 'NN'), ('hippo', 'NN'), ('etc', 'NN'), ('visit', 'NN'), ('visiting', 'NN'), ('mysore', 'NN'), ('zoo', 'NN')], [('zoo', 'NN'), ('middle', 'NN'), ('city', 'NN'), ('lots', 'NNS'), ('animals', 'NNS'), ('maintenance', 'NN'), ('amenities', 'NNS'), ('kids', 'NNS'), ('family', 'NN'), ('place', 'NN'), ('weekend', 'NN'), ('bit', 'NN')], [('zoos', 'NNS'), ('way', 'NN'), ('animals', 'NNS'), ('mysore', 'NN'), ('zoo', 'NN'), ('place', 'NN'), ('animals', 'NNS'), ('world', 'NN')], [('animals', 'NNS'), ('birds', 'NNS'), ('scavengers', 'NNS'), ('walking', 'NN'), ('shoes', 'NNS'), ('estate', 'NN'), ('foot', 'NN'), ('word', 'NN'), ('advice', 'NN'), ('book', 'NN'), ('seat', 'NN'), ('entrance', 'NN'), ('rides', 'NNS'), ('zoo', 'NN'), ('way', 'NN'), ('zoo', 'NN')], [('i', 'NNS'), ('zoo', 'NN'), ('tourist', 'NN'), ('zoos', 'NN'), ('india', 'NN'), ('diversity', 'NN'), ('organization', 'NN'), ('zoo', 'NN'), ('entry', 'NN'), ('fee', 'NN'), ('rate', 'NN'), ('india', 'NN'), ('absolute', 'NN'), ('interest', 'NN'), ('life', 'NN')], [('i', 'NN'), ('years', 'NNS'), ('zoo', 'NN'), ('place', 'NN'), ('variety', 'NN'), ('animals', 'NNS'), ('place', 'NN')], [('diff', 'NN'), ('kinds', 'NNS'), ('species', 'NNS'), ('security', 'NN'), ('strength', 'NN'), ('thanks', 'NNS'), ('team', 'NN')], [('place', 'NN'), ('vehicles', 'NNS'), ('toy', 'NN'), ('shop', 'NN'), ('animal', 'NN'), ('lovers', 'NNS'), ('home', 'NN'), ('day', 'NN'), ('notch', 'NN'), ('fun', 'NN')], [('animals', 'NNS'), ('birds', 'NNS'), ('animals', 'NNS'), ('animals', 'NNS'), ('animals', 'NNS')], [('i', 'NN'), ('zoo', 'NN'), ('enclosures', 'NNS'), ('ecosystem', 'NN'), ('animals', 'NNS'), ('trivia', 'NN'), ('animals', 'NNS'), ('animals', 'NNS'), ('battery', 'NN'), ('vehicle', 'NN'), ('boon', 'NN'), ('people', 'NNS'), ('mum', 'NN'), ('difficulty', 'NN')], [('likes', 'NNS'), ('zoo', 'NN'), ('facilities', 'NNS'), ('cafe', 'NN'), ('zoo', 'NN')], [('hands', 'NNS'), ('park', 'NN'), ('india', 'NN'), ('i', 'NN'), ('year', 'NN'), ('son', 'NN'), ('month', 'NN'), ('daughter', 'NN'), ('n', 'NN'), ('i', 'NN'), ('n', 'NN'), ('battery', 'NN'), ('hrs', 'NN'), ('round', 'NN'), ('park', 'NN'), ('staff', 'NN'), ('n', 'NN'), ('facilities', 'NNS')], [('everything', 'NN'), ('neat', 'NN'), ('way', 'NN'), ('variety', 'NN'), ('animals', 'NNS'), ('arrangement', 'NN')], [('attractions', 'NNS'), ('tourist', 'NN'), ('acres', 'NNS'), ('animals', 'NNS'), ('zoo', 'NN'), ('day', 'NN'), ('animals', 'NNS'), ('variety', 'NN'), ('place', 'NN'), ('children', 'NNS'), ('age', 'NN'), ('group', 'NN')], [('visit', 'NN'), ('zoo', 'NN'), ('battery', 'NN'), ('cars', 'NNS'), ('help', 'NN'), ('cars', 'NNS'), ('system', 'NN'), ('needs', 'NNS'), ('name', 'NN'), ('person', 'NN'), ('car', 'NN'), ('chit', 'NN'), ('payment', 'NN'), ('facility', 'NN'), ('everything', 'NN'), ('kids', 'NNS')], [('place', 'NN'), ('zoo', 'NN'), ('animals', 'NNS'), ('entry', 'NN'), ('tickets', 'NNS')], [('surprise', 'NN'), ('animals', 'NNS'), ('animals', 'NNS'), ('selection', 'NN'), ('price', 'NN'), ('bargain', 'NN')], [('animals', 'NNS'), ('park', 'NN'), ('please', 'NN'), ('book', 'NN'), ('battery', 'NN'), ('vehicle', 'NN'), ('hour', 'NN')], [('zoo', 'NN'), ('yrs', 'NNS'), ('maintenance', 'NN'), ('policy', 'NN'), ('variety', 'NN'), ('animals', 'NNS'), ('animals', 'NNS'), ('spaces', 'NNS'), ('information', 'NN'), ('boards', 'NNS'), ('animals', 'NNS'), ('gripe', 'NN'), ('availability', 'NN'), ('food', 'NN'), ('counters', 'NNS'), ('anything', 'NN'), ('home', 'NN'), ('cafeteria/canteen', 'NN'), ('way', 'NN'), ('towards', 'NNS'), ('end', 'NN'), ('zoo', 'NN'), ('kids', 'NNS'), ('snack', 'NN'), ('counters', 'NNS'), ('counter', 'NN'), ('canteen', 'NN'), ('out-of-stock', 'NN'), ('bathrooms', 'NNS'), ('toilet', 'NNS')], [('zoo', 'NN'), ('place', 'NN'), ('mysore', 'NN'), ('i', 'NN'), ('concept', 'NN'), ('animals', 'NNS')], [('zoo', 'NN'), ('india', 'NN'), ('half', 'NN'), ('day', 'NN'), ('zoo', 'NN'), ('signbaords', 'NNS'), ('zoo', 'NN'), ('cleanliness', 'NN'), ('mention', 'NN'), ('mysore', 'NN')], [('lot', 'NN'), ('zoo', 'NN'), ('animals', 'NNS'), ('golf', 'NN'), ('cart', 'NN'), ('booking', 'NN'), ('asthetics', 'NNS'), ('levels', 'NNS'), ('plastic', 'NN'), ('policy', 'NN'), ('anything', 'NN'), ('plastic', 'NN'), ('deposit', 'NN'), ('show', 'NN'), ('plastic', 'NN'), ('zebra', 'NN'), ('chimps', 'NNS'), ('deer', 'NN'), ('peacock', 'NN'), ('etc', 'NN'), ('water', 'NN'), ('sun', 'NN'), ('block', 'NN'), ('eataries', 'NNS')], [('zoo', 'NN'), ('kids', 'NNS'), ('place', 'NN'), ('zoo', 'NN'), ('animals', 'NNS'), ('children', 'NNS'), ('giraffe', 'NN'), ('star', 'NN'), ('attraction', 'NN'), ('course', 'NN'), ('elephants', 'NNS'), ('favourite', 'NN')], [('variety', 'NN'), ('animals', 'NNS'), ('zoo', 'NN'), ('india', 'NN'), ('tigers/jaguars/lions', 'NNS')], [('animals', 'NNS'), ('place', 'NN'), ('lot', 'NN'), ('pollution', 'NN'), ('place', 'NN'), ('case', 'NN'), ('mysore', 'NN'), ('atmosphere', 'NN'), ('jungle', 'NN'), ('city', 'NN'), ('animals', 'NNS'), ('couple', 'NN'), ('years', 'NNS'), ('time', 'NN'), ('place', 'NN'), ('charm', 'NN'), ('zoo', 'NN'), ('i', 'NN'), ('visit', 'NN'), ('time', 'NN'), ('i', 'NN'), ('pity', 'NN'), ('animals', 'NNS')], [('lot', 'NN'), ('zoo', 'NN'), ('hrs', 'NN'), ('animals', 'NNS'), ('zoo', 'NN')], [('clean', 'NN'), ('zoo', 'NN'), ('species', 'NNS'), ('birds', 'NNS'), ('animals', 'NNS'), ('tiger', 'NN'), ('lions', 'NNS'), ('birds', 'NNS'), ('langoors', 'NNS'), ('alligators', 'NNS'), ('elephants', 'NNS'), ('list', 'NN'), ('variety', 'NN'), ('snakes', 'NNS'), ('zoo', 'NN'), ('zoo', 'NN'), ('car', 'NN')], [('variety', 'NN'), ('mysore', 'NN'), ('zoo', 'NN'), ('plan', 'NN'), ('time', 'NN'), ('~2hrs', 'NN'), ('zoo', 'NN'), ('weekend', 'NN'), ('festivals', 'NNS')], [('zoo', 'NN'), ('something', 'NN'), ('look', 'NN'), ('kids', 'NNS'), ('times', 'NNS'), ('mysore', 'NN'), ('reviews', 'NNS'), ('friends', 'NNS'), ('day', 'NN'), ('trip', 'NN'), ('bangalore', 'NN'), ('idea', 'NN'), ('amount', 'NN'), ('walk', 'NN'), ('park', 'NN'), ('car', 'NN'), ('park', 'NN'), ('entry', 'NN'), ('path', 'NN'), ('animals', 'NNS'), ('animals', 'NNS'), ('atmosphere', 'NN'), ('spaces', 'NNS'), ('animals', 'NNS'), ('area', 'NN'), ('luggage', 'NN'), ('room', 'NN'), ('store', 'NN'), ('bags', 'NNS'), ('son', 'NN'), ('cycle', 'NN'), ('luggage', 'NN'), ('room', 'NN'), ('cons', 'NNS'), ('track', 'NN'), ('kids', 'NNS'), ('stroller', 'NN'), ('scooter', 'NN'), ('wasnt', 'NN'), ('dont', 'NN'), ('logic', 'NN'), ('walkway', 'NN'), ('staff', 'NN'), ('roam', 'NN'), ('cycles', 'NNS'), ('childrens', 'NNS'), ('food', 'NN'), ('options', 'NNS'), ('nothing', 'NN'), ('zoo', 'NN'), ('restuarant', 'NN'), ('food', 'NN'), ('options', 'NNS'), ('vist', 'NN'), ('wont', 'NN'), ('mind', 'NN'), ('kids', 'NNS')], [('neat', 'NN'), ('environment', 'NN'), ('zoo', 'NN'), ('types', 'NNS'), ('animals', 'NNS'), ('birds', 'NNS'), ('plenty', 'NN'), ('peacock', 'NN'), ('flair', 'NN'), ('children', 'NNS'), ('place', 'NN'), ('i', 'NN'), ('everyone', 'NN')], [('arena', 'NN'), ('varieties', 'NNS'), ('animals', 'NNS'), ('display', 'NN'), ('lot', 'NN'), ('time', 'NN'), ('entertainment', 'NN'), ('kids', 'NNS'), ('i', 'NN'), ('golf', 'NN'), ('cart', 'NN'), ('journey', 'NN'), ('place', 'NN'), ('time', 'NN')], [('visit', 'NN'), ('lot', 'NN'), ('animals', 'NNS'), ('ride', 'NN'), ('visit', 'NN'), ('time', 'NN'), ('entry', 'NN'), ('ticket', 'NN')], [('tons', 'NNS'), ('animals', 'NNS'), ('exhibits', 'NNS'), ('adoption', 'NN'), ('policy', 'NN'), ('idea', 'NN')], [('title', 'NN'), ('zoos', 'NN'), ('moscow', 'NN'), ('mysore', 'NN'), ('zoo', 'NN'), ('karnataka', 'NNP'), ('kept', 'NN'), ('animals', 'NNS'), ('variety', 'NN'), ('animals', 'NNS'), ('rhino', 'NN'), ('premises', 'NNS'), ('roads', 'NNS'), ('boards', 'NNS'), ('i', 'NNS'), ('bit', 'NN'), ('pity', 'NN')]]\n"
     ]
    }
   ],
   "source": [
    "# Limit the data to only terms with noun tags\n",
    "\n",
    "pos_noun_reviews = []\n",
    "for review in pos_tagged_review:\n",
    "    nouns=[]\n",
    "    for word_tuple in review:\n",
    "        if \"NN\" in word_tuple[1]:\n",
    "            nouns.append(word_tuple)\n",
    "    pos_noun_reviews.append(nouns)\n",
    "\n",
    "print(pos_noun_reviews[:50])"
   ]
  },
  {
   "cell_type": "code",
   "execution_count": 193,
   "metadata": {
    "colab": {
     "base_uri": "https://localhost:8080/"
    },
    "id": "ZSyUDj0CH7zG",
    "outputId": "b2a0ecd6-36b1-4975-a429-5f82dc1e3ce9"
   },
   "outputs": [
    {
     "name": "stdout",
     "output_type": "stream",
     "text": [
      "100 [[('zoo', 'NN'), ('number', 'NN'), ('cats', 'NNS'), ('mammals', 'NNS'), ('zoo', 'NN'), ('car', 'NN'), ('group', 'NN'), ('exhibits', 'NNS'), ('manner', 'NN'), ('plastic', 'NN'), ('bags', 'NNS'), ('containers', 'NNS'), ('zoo', 'NN'), ('snack', 'NN'), ('bags', 'NNS'), ('place', 'NN'), ('snacks', 'NNS'), ('newspaper', 'NN'), ('cone', 'NN'), ('parking', 'NN'), ('street', 'NN'), ('entrance', 'NN')], [('size', 'NN'), ('walk', 'NN'), ('mins', 'NNS'), ('tour', 'NN'), ('animals', 'NNS'), ('tiger', 'NN'), ('lion', 'NN'), ('wild', 'NN'), ('buffaloes', 'NNS'), ('deers', 'NNS'), ('snakes', 'NNS'), ('elephants', 'NNS'), ('etc', 'NN'), ('magnificent', 'NN'), ('giraffes', 'NN'), ('visit', 'NN'), ('time', 'NN'), ('ticket', 'NN'), ('counter', 'NN'), ('price', 'NN'), ('adult', 'NN'), ('note', 'NN'), ('plastic', 'NN'), ('stuffs', 'NNS'), ('sticker', 'NN'), ('cleanliness', 'NN'), ('clean', 'NN'), ('peace', 'NN'), ('mind', 'NN')], [('zoo', 'NN'), ('i', 'NN'), ('animals', 'NNS'), ('n', 'NNS'), ('feel', 'NN'), ('sec', 'NN'), ('visit', 'NN'), ('management', 'NN')], [('zoo', 'NN'), ('lot', 'NN'), ('expectations', 'NNS'), ('mark', 'NN'), ('effect', 'NN'), ('jungle', 'NN'), ('safari', 'NN'), ('animals', 'NNS'), ('zoo', 'NN'), ('wise', 'NN'), ('zoo', 'NN'), ('india', 'NN'), ('animals', 'NNS'), ('kids', 'NNS')], [('govt', 'NN'), ('run', 'NN'), ('zoo', 'NN'), ('animals', 'NNS'), ('enclosures', 'NNS'), ('space', 'NN'), ('names', 'NNS'), ('sponsors', 'NNS'), ('front', 'NN'), ('enclosures', 'NNS'), ('zoo', 'NN'), ('contributions', 'NNS'), ('zoo', 'NN'), ('foul', 'NN'), ('smell', 'NN'), ('trees', 'NNS'), ('sun', 'NN'), ('part', 'NN'), ('jungle', 'NN'), ('reality', 'NN'), ('zoo', 'NN'), ('center', 'NN'), ('town', 'NN'), ('variety', 'NN'), ('animals', 'NNS'), ('corner', 'NN'), ('one', 'NN'), ('walk', 'NN'), ('kms', 'NNS'), ('king', 'NN'), ('jungle', 'NN'), ('lion', 'NN'), ('lioness', 'NN'), ('energies', 'NNS'), ('giraffee', 'NN'), ('end', 'NN'), ('animals', 'NNS'), ('center', 'NN'), ('city', 'NN')], [('zoos', 'NN'), ('i', 'NN'), ('spread', 'NN'), ('landscape', 'NN'), ('variety', 'NN'), ('species', 'NNS'), ('birds', 'NNS'), ('treat', 'NN'), ('cats', 'NNS'), ('tigers', 'NNS'), ('lions', 'NNS'), ('leopards', 'NNS'), ('ape', 'NN'), ('family', 'NN'), ('gorillas', 'NNS'), ('orangutans', 'NNS'), ('others', 'NNS'), ('hours', 'NNS'), ('hand', 'NN'), ('tour', 'NN'), ('zoo', 'NN'), ('cart', 'NN'), ('walking', 'NN'), ('heat', 'NN'), ('age', 'NN'), ('groups', 'NNS')], [('country', 'NN'), ('visit', 'NN'), ('animals', 'NNS'), ('nameplates', 'NNS')], [('country', 'NN'), ('visit', 'NN'), ('animals', 'NNS'), ('nameplates', 'NNS')], [('experience', 'NN'), ('zoo', 'NN'), ('post', 'NN'), ('driving', 'NN'), ('bit', 'NN'), ('zoo', 'NN'), ('stretch', 'NN'), ('zoo', 'NN'), ('variety', 'NN'), ('animals', 'NNS'), ('reptiles', 'NNS'), ('birds', 'NNS'), ('place', 'NN'), ('mysore', 'NN')], [('zoos', 'NN'), ('country', 'NN'), ('tour', 'NN'), ('campus', 'NN'), ('golf', 'NN'), ('cart', 'NN'), ('variety', 'NN'), ('animals', 'NNS'), ('section', 'NN'), ('birds', 'NNS'), ('part', 'NN'), ('feel', 'NN'), ('birds', 'NNS')], [('zoos', 'NN'), ('country', 'NN'), ('tour', 'NN'), ('campus', 'NN'), ('golf', 'NN'), ('cart', 'NN'), ('variety', 'NN'), ('animals', 'NNS'), ('section', 'NN'), ('birds', 'NNS'), ('part', 'NN'), ('feel', 'NN'), ('birds', 'NNS')], [('place', 'NN'), ('kids', 'NNS'), ('zoo', 'NN'), ('variety', 'NN'), ('animals', 'NNS'), ('birds', 'NNS'), ('place', 'NN'), ('greenery', 'NN'), ('day', 'NN'), ('umbrella', 'NN'), ('cover', 'NN'), ('kids', 'NNS'), ('place', 'NN'), ('animals', 'NNS'), ('cartoons', 'NNS'), ('movies', 'NNS'), ('discovery', 'NN'), ('channel', 'NN')], [('park', 'NN'), ('country', 'NN'), ('globe', 'NN'), ('elephants', 'NNS'), ('gorillas', 'NNS'), ('zebra', 'NN'), ('giraffe', 'NN'), ('premises', 'NNS'), ('utmost', 'NN'), ('levels', 'NNS'), ('creatures', 'NNS'), ('please', 'NN'), ('prefer', 'NN'), ('km', 'NNS'), ('golf', 'NN'), ('cart', 'NN'), ('park', 'NN')], [('place', 'NN'), ('kids', 'NNS'), ('restaurants', 'NNS')], [('thing', 'NN'), ('singapore', 'NN'), ('zoo', 'NN'), ('world', 'NN'), ('zoo', 'NN'), ('zoo', 'NN'), ('smell', 'NN'), ('experiences', 'NNS'), ('india', 'NN'), ('zoo', 'NN'), ('day', 'NN'), ('noon', 'NN'), ('hour', 'NN'), ('tickets', 'NNS'), ('time', 'NN'), ('car', 'NN'), ('facility', 'NN'), ('day', 'NN'), ('zoo', 'NN'), ('species', 'NNS'), ('animals', 'NNS'), ('cats', 'NNS'), ('i', 'NNS'), ('giraffe', 'NN'), ('rhino', 'NN'), ('cats', 'NNS'), ('chimpanzee', 'NN'), ('enclosures', 'NNS'), ('lane', 'NN'), ('km', 'NN'), ('walk', 'NN'), ('enclosures', 'NNS'), ('close', 'NN'), ('km', 'NN'), ('i', 'NN'), ('zoo', 'NN'), ('authorities', 'NNS'), ('chair', 'NN'), ('people/tourists', 'NNS'), ('teasing', 'NN'), ('note', 'NN'), ('visitors', 'NNS'), ('plan', 'NN'), ('time', 'NN'), ('food', 'NN'), ('baby', 'NN'), ('start', 'NN'), ('right', 'NN'), ('breakfast', 'NN'), ('energy', 'NN'), ('end', 'NN'), ('walk', 'NN')], [('green', 'NN'), ('work', 'NN'), ('authorities', 'NNS'), ('collection', 'NN'), ('animals', 'NNS'), ('reptiles', 'NNS'), ('visit', 'NN')], [('i', 'NN'), ('zoo', 'NN'), ('years', 'NNS'), ('way', 'NN'), ('feeling', 'NN'), ('i', 'NN'), ('life', 'NN'), ('sanctuary', 'NN'), ('i', 'NN'), ('animals', 'NNS'), ('feeling', 'NN'), ('zoo', 'NN'), ('zoo', 'NN'), ('stench', 'NN'), ('variety', 'NN'), ('birds', 'NNS'), ('fowl', 'NN'), ('parakeets', 'NNS'), ('peacock', 'NN'), ('etc', 'NN'), ('game', 'NN'), ('animals', 'NNS'), ('variety', 'NN'), ('deer', 'NN'), ('zebra', 'NN'), ('giraffe', 'NN'), ('rhino', 'NN'), ('hippo', 'NN'), ('etc', 'NN'), ('visit', 'NN'), ('visiting', 'NN'), ('mysore', 'NN'), ('zoo', 'NN')], [('zoo', 'NN'), ('middle', 'NN'), ('city', 'NN'), ('lots', 'NNS'), ('animals', 'NNS'), ('maintenance', 'NN'), ('amenities', 'NNS'), ('kids', 'NNS'), ('family', 'NN'), ('place', 'NN'), ('weekend', 'NN'), ('bit', 'NN')], [('zoos', 'NNS'), ('way', 'NN'), ('animals', 'NNS'), ('mysore', 'NN'), ('zoo', 'NN'), ('place', 'NN'), ('animals', 'NNS'), ('world', 'NN')], [('animals', 'NNS'), ('birds', 'NNS'), ('scavengers', 'NNS'), ('walking', 'NN'), ('shoes', 'NNS'), ('estate', 'NN'), ('foot', 'NN'), ('word', 'NN'), ('advice', 'NN'), ('book', 'NN'), ('seat', 'NN'), ('entrance', 'NN'), ('rides', 'NNS'), ('zoo', 'NN'), ('way', 'NN'), ('zoo', 'NN')], [('i', 'NNS'), ('zoo', 'NN'), ('tourist', 'NN'), ('zoos', 'NN'), ('india', 'NN'), ('diversity', 'NN'), ('organization', 'NN'), ('zoo', 'NN'), ('entry', 'NN'), ('fee', 'NN'), ('rate', 'NN'), ('india', 'NN'), ('absolute', 'NN'), ('interest', 'NN'), ('life', 'NN')], [('i', 'NN'), ('years', 'NNS'), ('zoo', 'NN'), ('place', 'NN'), ('variety', 'NN'), ('animals', 'NNS'), ('place', 'NN')], [('diff', 'NN'), ('kinds', 'NNS'), ('species', 'NNS'), ('security', 'NN'), ('strength', 'NN'), ('thanks', 'NNS'), ('team', 'NN')], [('place', 'NN'), ('vehicles', 'NNS'), ('toy', 'NN'), ('shop', 'NN'), ('animal', 'NN'), ('lovers', 'NNS'), ('home', 'NN'), ('day', 'NN'), ('notch', 'NN'), ('fun', 'NN')], [('animals', 'NNS'), ('birds', 'NNS'), ('animals', 'NNS'), ('animals', 'NNS'), ('animals', 'NNS')], [('i', 'NN'), ('zoo', 'NN'), ('enclosures', 'NNS'), ('ecosystem', 'NN'), ('animals', 'NNS'), ('trivia', 'NN'), ('animals', 'NNS'), ('animals', 'NNS'), ('battery', 'NN'), ('vehicle', 'NN'), ('boon', 'NN'), ('people', 'NNS'), ('mum', 'NN'), ('difficulty', 'NN')], [('likes', 'NNS'), ('zoo', 'NN'), ('facilities', 'NNS'), ('cafe', 'NN'), ('zoo', 'NN')], [('hands', 'NNS'), ('park', 'NN'), ('india', 'NN'), ('i', 'NN'), ('year', 'NN'), ('son', 'NN'), ('month', 'NN'), ('daughter', 'NN'), ('n', 'NN'), ('i', 'NN'), ('n', 'NN'), ('battery', 'NN'), ('hrs', 'NN'), ('round', 'NN'), ('park', 'NN'), ('staff', 'NN'), ('n', 'NN'), ('facilities', 'NNS')], [('everything', 'NN'), ('neat', 'NN'), ('way', 'NN'), ('variety', 'NN'), ('animals', 'NNS'), ('arrangement', 'NN')], [('attractions', 'NNS'), ('tourist', 'NN'), ('acres', 'NNS'), ('animals', 'NNS'), ('zoo', 'NN'), ('day', 'NN'), ('animals', 'NNS'), ('variety', 'NN'), ('place', 'NN'), ('children', 'NNS'), ('age', 'NN'), ('group', 'NN')], [('visit', 'NN'), ('zoo', 'NN'), ('battery', 'NN'), ('cars', 'NNS'), ('help', 'NN'), ('cars', 'NNS'), ('system', 'NN'), ('needs', 'NNS'), ('name', 'NN'), ('person', 'NN'), ('car', 'NN'), ('chit', 'NN'), ('payment', 'NN'), ('facility', 'NN'), ('everything', 'NN'), ('kids', 'NNS')], [('place', 'NN'), ('zoo', 'NN'), ('animals', 'NNS'), ('entry', 'NN'), ('tickets', 'NNS')], [('surprise', 'NN'), ('animals', 'NNS'), ('animals', 'NNS'), ('selection', 'NN'), ('price', 'NN'), ('bargain', 'NN')], [('animals', 'NNS'), ('park', 'NN'), ('please', 'NN'), ('book', 'NN'), ('battery', 'NN'), ('vehicle', 'NN'), ('hour', 'NN')], [('zoo', 'NN'), ('yrs', 'NNS'), ('maintenance', 'NN'), ('policy', 'NN'), ('variety', 'NN'), ('animals', 'NNS'), ('animals', 'NNS'), ('spaces', 'NNS'), ('information', 'NN'), ('boards', 'NNS'), ('animals', 'NNS'), ('gripe', 'NN'), ('availability', 'NN'), ('food', 'NN'), ('counters', 'NNS'), ('anything', 'NN'), ('home', 'NN'), ('cafeteria/canteen', 'NN'), ('way', 'NN'), ('towards', 'NNS'), ('end', 'NN'), ('zoo', 'NN'), ('kids', 'NNS'), ('snack', 'NN'), ('counters', 'NNS'), ('counter', 'NN'), ('canteen', 'NN'), ('out-of-stock', 'NN'), ('bathrooms', 'NNS'), ('toilet', 'NNS')], [('zoo', 'NN'), ('place', 'NN'), ('mysore', 'NN'), ('i', 'NN'), ('concept', 'NN'), ('animals', 'NNS')], [('zoo', 'NN'), ('india', 'NN'), ('half', 'NN'), ('day', 'NN'), ('zoo', 'NN'), ('signbaords', 'NNS'), ('zoo', 'NN'), ('cleanliness', 'NN'), ('mention', 'NN'), ('mysore', 'NN')], [('lot', 'NN'), ('zoo', 'NN'), ('animals', 'NNS'), ('golf', 'NN'), ('cart', 'NN'), ('booking', 'NN'), ('asthetics', 'NNS'), ('levels', 'NNS'), ('plastic', 'NN'), ('policy', 'NN'), ('anything', 'NN'), ('plastic', 'NN'), ('deposit', 'NN'), ('show', 'NN'), ('plastic', 'NN'), ('zebra', 'NN'), ('chimps', 'NNS'), ('deer', 'NN'), ('peacock', 'NN'), ('etc', 'NN'), ('water', 'NN'), ('sun', 'NN'), ('block', 'NN'), ('eataries', 'NNS')], [('zoo', 'NN'), ('kids', 'NNS'), ('place', 'NN'), ('zoo', 'NN'), ('animals', 'NNS'), ('children', 'NNS'), ('giraffe', 'NN'), ('star', 'NN'), ('attraction', 'NN'), ('course', 'NN'), ('elephants', 'NNS'), ('favourite', 'NN')], [('variety', 'NN'), ('animals', 'NNS'), ('zoo', 'NN'), ('india', 'NN'), ('tigers/jaguars/lions', 'NNS')], [('animals', 'NNS'), ('place', 'NN'), ('lot', 'NN'), ('pollution', 'NN'), ('place', 'NN'), ('case', 'NN'), ('mysore', 'NN'), ('atmosphere', 'NN'), ('jungle', 'NN'), ('city', 'NN'), ('animals', 'NNS'), ('couple', 'NN'), ('years', 'NNS'), ('time', 'NN'), ('place', 'NN'), ('charm', 'NN'), ('zoo', 'NN'), ('i', 'NN'), ('visit', 'NN'), ('time', 'NN'), ('i', 'NN'), ('pity', 'NN'), ('animals', 'NNS')], [('lot', 'NN'), ('zoo', 'NN'), ('hrs', 'NN'), ('animals', 'NNS'), ('zoo', 'NN')], [('clean', 'NN'), ('zoo', 'NN'), ('species', 'NNS'), ('birds', 'NNS'), ('animals', 'NNS'), ('tiger', 'NN'), ('lions', 'NNS'), ('birds', 'NNS'), ('langoors', 'NNS'), ('alligators', 'NNS'), ('elephants', 'NNS'), ('list', 'NN'), ('variety', 'NN'), ('snakes', 'NNS'), ('zoo', 'NN'), ('zoo', 'NN'), ('car', 'NN')], [('variety', 'NN'), ('mysore', 'NN'), ('zoo', 'NN'), ('plan', 'NN'), ('time', 'NN'), ('~2hrs', 'NN'), ('zoo', 'NN'), ('weekend', 'NN'), ('festivals', 'NNS')], [('zoo', 'NN'), ('something', 'NN'), ('look', 'NN'), ('kids', 'NNS'), ('times', 'NNS'), ('mysore', 'NN'), ('reviews', 'NNS'), ('friends', 'NNS'), ('day', 'NN'), ('trip', 'NN'), ('bangalore', 'NN'), ('idea', 'NN'), ('amount', 'NN'), ('walk', 'NN'), ('park', 'NN'), ('car', 'NN'), ('park', 'NN'), ('entry', 'NN'), ('path', 'NN'), ('animals', 'NNS'), ('animals', 'NNS'), ('atmosphere', 'NN'), ('spaces', 'NNS'), ('animals', 'NNS'), ('area', 'NN'), ('luggage', 'NN'), ('room', 'NN'), ('store', 'NN'), ('bags', 'NNS'), ('son', 'NN'), ('cycle', 'NN'), ('luggage', 'NN'), ('room', 'NN'), ('cons', 'NNS'), ('track', 'NN'), ('kids', 'NNS'), ('stroller', 'NN'), ('scooter', 'NN'), ('wasnt', 'NN'), ('dont', 'NN'), ('logic', 'NN'), ('walkway', 'NN'), ('staff', 'NN'), ('roam', 'NN'), ('cycles', 'NNS'), ('childrens', 'NNS'), ('food', 'NN'), ('options', 'NNS'), ('nothing', 'NN'), ('zoo', 'NN'), ('restuarant', 'NN'), ('food', 'NN'), ('options', 'NNS'), ('vist', 'NN'), ('wont', 'NN'), ('mind', 'NN'), ('kids', 'NNS')], [('neat', 'NN'), ('environment', 'NN'), ('zoo', 'NN'), ('types', 'NNS'), ('animals', 'NNS'), ('birds', 'NNS'), ('plenty', 'NN'), ('peacock', 'NN'), ('flair', 'NN'), ('children', 'NNS'), ('place', 'NN'), ('i', 'NN'), ('everyone', 'NN')], [('arena', 'NN'), ('varieties', 'NNS'), ('animals', 'NNS'), ('display', 'NN'), ('lot', 'NN'), ('time', 'NN'), ('entertainment', 'NN'), ('kids', 'NNS'), ('i', 'NN'), ('golf', 'NN'), ('cart', 'NN'), ('journey', 'NN'), ('place', 'NN'), ('time', 'NN')], [('visit', 'NN'), ('lot', 'NN'), ('animals', 'NNS'), ('ride', 'NN'), ('visit', 'NN'), ('time', 'NN'), ('entry', 'NN'), ('ticket', 'NN')], [('tons', 'NNS'), ('animals', 'NNS'), ('exhibits', 'NNS'), ('adoption', 'NN'), ('policy', 'NN'), ('idea', 'NN')], [('title', 'NN'), ('zoos', 'NN'), ('moscow', 'NN'), ('mysore', 'NN'), ('zoo', 'NN'), ('karnataka', 'NNP'), ('kept', 'NN'), ('animals', 'NNS'), ('variety', 'NN'), ('animals', 'NNS'), ('rhino', 'NN'), ('premises', 'NNS'), ('roads', 'NNS'), ('boards', 'NNS'), ('i', 'NNS'), ('bit', 'NN'), ('pity', 'NN')]]\n"
     ]
    }
   ],
   "source": [
    "# Exclude any reviews that did not have any nouns as these reviews will be blank or empty sublists []\n",
    "\n",
    "pos_noun_reviews=[review for review in pos_noun_reviews if len(review)>=1]\n",
    "print(len(pos_noun_reviews), pos_noun_reviews[:50])"
   ]
  },
  {
   "cell_type": "code",
   "execution_count": null,
   "metadata": {
    "id": "T46HaSI0H-RO"
   },
   "outputs": [],
   "source": []
  },
  {
   "cell_type": "markdown",
   "metadata": {
    "id": "Gp3R8s_5IAnm"
   },
   "source": [
    "### Lemmatize"
   ]
  },
  {
   "cell_type": "code",
   "execution_count": 194,
   "metadata": {
    "colab": {
     "base_uri": "https://localhost:8080/"
    },
    "id": "kP8C9ID8IEH7",
    "outputId": "54b89aa7-2296-4553-e653-7386fb9df78b"
   },
   "outputs": [
    {
     "name": "stdout",
     "output_type": "stream",
     "text": [
      "[['zoo', 'number', 'cat', 'mammal', 'zoo', 'car', 'group', 'exhibit', 'manner', 'plastic', 'bag', 'container', 'zoo', 'snack', 'bag', 'place', 'snack', 'newspaper', 'cone', 'parking', 'street', 'entrance'], ['size', 'walk', 'min', 'tour', 'animal', 'tiger', 'lion', 'wild', 'buffalo', 'deer', 'snake', 'elephant', 'etc', 'magnificent', 'giraffe', 'visit', 'time', 'ticket', 'counter', 'price', 'adult', 'note', 'plastic', 'stuff', 'sticker', 'cleanliness', 'clean', 'peace', 'mind'], ['zoo', 'i', 'animal', 'n', 'feel', 'sec', 'visit', 'management'], ['zoo', 'lot', 'expectation', 'mark', 'effect', 'jungle', 'safari', 'animal', 'zoo', 'wise', 'zoo', 'india', 'animal', 'kid'], ['govt', 'run', 'zoo', 'animal', 'enclosure', 'space', 'name', 'sponsor', 'front', 'enclosure', 'zoo', 'contribution', 'zoo', 'foul', 'smell', 'tree', 'sun', 'part', 'jungle', 'reality', 'zoo', 'center', 'town', 'variety', 'animal', 'corner', 'one', 'walk', 'km', 'king', 'jungle', 'lion', 'lioness', 'energy', 'giraffee', 'end', 'animal', 'center', 'city'], ['zoo', 'i', 'spread', 'landscape', 'variety', 'specie', 'bird', 'treat', 'cat', 'tiger', 'lion', 'leopard', 'ape', 'family', 'gorilla', 'orangutan', 'others', 'hour', 'hand', 'tour', 'zoo', 'cart', 'walking', 'heat', 'age', 'group'], ['country', 'visit', 'animal', 'nameplate'], ['country', 'visit', 'animal', 'nameplate'], ['experience', 'zoo', 'post', 'driving', 'bit', 'zoo', 'stretch', 'zoo', 'variety', 'animal', 'reptile', 'bird', 'place', 'mysore'], ['zoo', 'country', 'tour', 'campus', 'golf', 'cart', 'variety', 'animal', 'section', 'bird', 'part', 'feel', 'bird'], ['zoo', 'country', 'tour', 'campus', 'golf', 'cart', 'variety', 'animal', 'section', 'bird', 'part', 'feel', 'bird'], ['place', 'kid', 'zoo', 'variety', 'animal', 'bird', 'place', 'greenery', 'day', 'umbrella', 'cover', 'kid', 'place', 'animal', 'cartoon', 'movie', 'discovery', 'channel'], ['park', 'country', 'globe', 'elephant', 'gorilla', 'zebra', 'giraffe', 'premise', 'utmost', 'level', 'creature', 'please', 'prefer', 'km', 'golf', 'cart', 'park'], ['place', 'kid', 'restaurant'], ['thing', 'singapore', 'zoo', 'world', 'zoo', 'zoo', 'smell', 'experience', 'india', 'zoo', 'day', 'noon', 'hour', 'ticket', 'time', 'car', 'facility', 'day', 'zoo', 'specie', 'animal', 'cat', 'i', 'giraffe', 'rhino', 'cat', 'chimpanzee', 'enclosure', 'lane', 'km', 'walk', 'enclosure', 'close', 'km', 'i', 'zoo', 'authority', 'chair', 'people/tourists', 'teasing', 'note', 'visitor', 'plan', 'time', 'food', 'baby', 'start', 'right', 'breakfast', 'energy', 'end', 'walk'], ['green', 'work', 'authority', 'collection', 'animal', 'reptile', 'visit'], ['i', 'zoo', 'year', 'way', 'feeling', 'i', 'life', 'sanctuary', 'i', 'animal', 'feeling', 'zoo', 'zoo', 'stench', 'variety', 'bird', 'fowl', 'parakeet', 'peacock', 'etc', 'game', 'animal', 'variety', 'deer', 'zebra', 'giraffe', 'rhino', 'hippo', 'etc', 'visit', 'visiting', 'mysore', 'zoo'], ['zoo', 'middle', 'city', 'lot', 'animal', 'maintenance', 'amenity', 'kid', 'family', 'place', 'weekend', 'bit'], ['zoo', 'way', 'animal', 'mysore', 'zoo', 'place', 'animal', 'world'], ['animal', 'bird', 'scavenger', 'walking', 'shoe', 'estate', 'foot', 'word', 'advice', 'book', 'seat', 'entrance', 'ride', 'zoo', 'way', 'zoo'], ['i', 'zoo', 'tourist', 'zoo', 'india', 'diversity', 'organization', 'zoo', 'entry', 'fee', 'rate', 'india', 'absolute', 'interest', 'life'], ['i', 'year', 'zoo', 'place', 'variety', 'animal', 'place'], ['diff', 'kind', 'specie', 'security', 'strength', 'thanks', 'team'], ['place', 'vehicle', 'toy', 'shop', 'animal', 'lover', 'home', 'day', 'notch', 'fun'], ['animal', 'bird', 'animal', 'animal', 'animal'], ['i', 'zoo', 'enclosure', 'ecosystem', 'animal', 'trivia', 'animal', 'animal', 'battery', 'vehicle', 'boon', 'people', 'mum', 'difficulty'], ['like', 'zoo', 'facility', 'cafe', 'zoo'], ['hand', 'park', 'india', 'i', 'year', 'son', 'month', 'daughter', 'n', 'i', 'n', 'battery', 'hr', 'round', 'park', 'staff', 'n', 'facility'], ['everything', 'neat', 'way', 'variety', 'animal', 'arrangement'], ['attraction', 'tourist', 'acre', 'animal', 'zoo', 'day', 'animal', 'variety', 'place', 'child', 'age', 'group'], ['visit', 'zoo', 'battery', 'car', 'help', 'car', 'system', 'need', 'name', 'person', 'car', 'chit', 'payment', 'facility', 'everything', 'kid'], ['place', 'zoo', 'animal', 'entry', 'ticket'], ['surprise', 'animal', 'animal', 'selection', 'price', 'bargain'], ['animal', 'park', 'please', 'book', 'battery', 'vehicle', 'hour'], ['zoo', 'yr', 'maintenance', 'policy', 'variety', 'animal', 'animal', 'space', 'information', 'board', 'animal', 'gripe', 'availability', 'food', 'counter', 'anything', 'home', 'cafeteria/canteen', 'way', 'towards', 'end', 'zoo', 'kid', 'snack', 'counter', 'counter', 'canteen', 'out-of-stock', 'bathroom', 'toilet'], ['zoo', 'place', 'mysore', 'i', 'concept', 'animal'], ['zoo', 'india', 'half', 'day', 'zoo', 'signbaords', 'zoo', 'cleanliness', 'mention', 'mysore'], ['lot', 'zoo', 'animal', 'golf', 'cart', 'booking', 'asthetics', 'level', 'plastic', 'policy', 'anything', 'plastic', 'deposit', 'show', 'plastic', 'zebra', 'chimp', 'deer', 'peacock', 'etc', 'water', 'sun', 'block', 'eataries'], ['zoo', 'kid', 'place', 'zoo', 'animal', 'child', 'giraffe', 'star', 'attraction', 'course', 'elephant', 'favourite'], ['variety', 'animal', 'zoo', 'india', 'tigers/jaguars/lions'], ['animal', 'place', 'lot', 'pollution', 'place', 'case', 'mysore', 'atmosphere', 'jungle', 'city', 'animal', 'couple', 'year', 'time', 'place', 'charm', 'zoo', 'i', 'visit', 'time', 'i', 'pity', 'animal'], ['lot', 'zoo', 'hr', 'animal', 'zoo'], ['clean', 'zoo', 'specie', 'bird', 'animal', 'tiger', 'lion', 'bird', 'langoors', 'alligator', 'elephant', 'list', 'variety', 'snake', 'zoo', 'zoo', 'car'], ['variety', 'mysore', 'zoo', 'plan', 'time', '~2hrs', 'zoo', 'weekend', 'festival'], ['zoo', 'something', 'look', 'kid', 'time', 'mysore', 'review', 'friend', 'day', 'trip', 'bangalore', 'idea', 'amount', 'walk', 'park', 'car', 'park', 'entry', 'path', 'animal', 'animal', 'atmosphere', 'space', 'animal', 'area', 'luggage', 'room', 'store', 'bag', 'son', 'cycle', 'luggage', 'room', 'con', 'track', 'kid', 'stroller', 'scooter', 'wasnt', 'dont', 'logic', 'walkway', 'staff', 'roam', 'cycle', 'childrens', 'food', 'option', 'nothing', 'zoo', 'restuarant', 'food', 'option', 'vist', 'wont', 'mind', 'kid'], ['neat', 'environment', 'zoo', 'type', 'animal', 'bird', 'plenty', 'peacock', 'flair', 'child', 'place', 'i', 'everyone'], ['arena', 'variety', 'animal', 'display', 'lot', 'time', 'entertainment', 'kid', 'i', 'golf', 'cart', 'journey', 'place', 'time'], ['visit', 'lot', 'animal', 'ride', 'visit', 'time', 'entry', 'ticket'], ['ton', 'animal', 'exhibit', 'adoption', 'policy', 'idea'], ['title', 'zoo', 'moscow', 'mysore', 'zoo', 'karnataka', 'kept', 'animal', 'variety', 'animal', 'rhino', 'premise', 'road', 'board', 'i', 'bit', 'pity']]\n"
     ]
    }
   ],
   "source": [
    "# Lemmatize the different forms of the nouns\n",
    "# POS tags not passed to lemmatizer\n",
    "\n",
    "wnl = WordNetLemmatizer()\n",
    "lemmatized_words =[]\n",
    "for review in pos_noun_reviews:\n",
    "    lemma_word=[]\n",
    "    for word in review:\n",
    "        lemma_word.append(wnl.lemmatize(word[0]))\n",
    "    lemmatized_words.append(lemma_word)\n",
    "\n",
    "print(lemmatized_words[:50])"
   ]
  },
  {
   "cell_type": "code",
   "execution_count": null,
   "metadata": {
    "id": "DOsZPRfbIEtB"
   },
   "outputs": [],
   "source": []
  },
  {
   "cell_type": "markdown",
   "metadata": {
    "id": "RmUw-RBwIMuw"
   },
   "source": [
    "### Remove Stop Words"
   ]
  },
  {
   "cell_type": "code",
   "execution_count": 195,
   "metadata": {
    "id": "ZOj0VjefIP8D"
   },
   "outputs": [],
   "source": [
    "# The o/p from lemmatizer still has many composite words that still contain emojis , special characters etc.\n",
    "# Using tweet tokenizer for isolating them better.\n",
    "tweet_tokenize = TweetTokenizer()\n",
    "\n",
    "#Create list of stopwords with punctuations.Manually added token ['\\s'] as this is usually seperated in tokenize\n",
    "stop_words = stopwords.words(\"english\")\n",
    "stop_words = stop_words+list(string.punctuation)+[\"\\'s\"]\n",
    "\n",
    "filtered_rev_words=[]\n",
    "\n",
    "for review in lemmatized_words:\n",
    "    filter_words=[]\n",
    "    for words in review:\n",
    "        rev_words = []\n",
    "        rev_words = tweet_tokenize.tokenize(words)\n",
    "        for word in rev_words:\n",
    "            if word not in stop_words:\n",
    "                filter_words.append(word)\n",
    "    filtered_rev_words.append(filter_words)"
   ]
  },
  {
   "cell_type": "code",
   "execution_count": 196,
   "metadata": {
    "colab": {
     "base_uri": "https://localhost:8080/"
    },
    "id": "_jqDpdKPIQhz",
    "outputId": "044d6589-d6a2-4889-ae4a-492d51a104e7"
   },
   "outputs": [
    {
     "name": "stdout",
     "output_type": "stream",
     "text": [
      "100 [['zoo', 'number', 'cat', 'mammal', 'zoo', 'car', 'group', 'exhibit', 'manner', 'plastic', 'bag', 'container', 'zoo', 'snack', 'bag', 'place', 'snack', 'newspaper', 'cone', 'parking', 'street', 'entrance'], ['size', 'walk', 'min', 'tour', 'animal', 'tiger', 'lion', 'wild', 'buffalo', 'deer', 'snake', 'elephant', 'etc', 'magnificent', 'giraffe', 'visit', 'time', 'ticket', 'counter', 'price', 'adult', 'note', 'plastic', 'stuff', 'sticker', 'cleanliness', 'clean', 'peace', 'mind'], ['zoo', 'animal', 'n', 'feel', 'sec', 'visit', 'management'], ['zoo', 'lot', 'expectation', 'mark', 'effect', 'jungle', 'safari', 'animal', 'zoo', 'wise', 'zoo', 'india', 'animal', 'kid'], ['govt', 'run', 'zoo', 'animal', 'enclosure', 'space', 'name', 'sponsor', 'front', 'enclosure', 'zoo', 'contribution', 'zoo', 'foul', 'smell', 'tree', 'sun', 'part', 'jungle', 'reality', 'zoo', 'center', 'town', 'variety', 'animal', 'corner', 'one', 'walk', 'km', 'king', 'jungle', 'lion', 'lioness', 'energy', 'giraffee', 'end', 'animal', 'center', 'city'], ['zoo', 'spread', 'landscape', 'variety', 'specie', 'bird', 'treat', 'cat', 'tiger', 'lion', 'leopard', 'ape', 'family', 'gorilla', 'orangutan', 'others', 'hour', 'hand', 'tour', 'zoo', 'cart', 'walking', 'heat', 'age', 'group'], ['country', 'visit', 'animal', 'nameplate'], ['country', 'visit', 'animal', 'nameplate'], ['experience', 'zoo', 'post', 'driving', 'bit', 'zoo', 'stretch', 'zoo', 'variety', 'animal', 'reptile', 'bird', 'place', 'mysore'], ['zoo', 'country', 'tour', 'campus', 'golf', 'cart', 'variety', 'animal', 'section', 'bird', 'part', 'feel', 'bird'], ['zoo', 'country', 'tour', 'campus', 'golf', 'cart', 'variety', 'animal', 'section', 'bird', 'part', 'feel', 'bird'], ['place', 'kid', 'zoo', 'variety', 'animal', 'bird', 'place', 'greenery', 'day', 'umbrella', 'cover', 'kid', 'place', 'animal', 'cartoon', 'movie', 'discovery', 'channel'], ['park', 'country', 'globe', 'elephant', 'gorilla', 'zebra', 'giraffe', 'premise', 'utmost', 'level', 'creature', 'please', 'prefer', 'km', 'golf', 'cart', 'park'], ['place', 'kid', 'restaurant'], ['thing', 'singapore', 'zoo', 'world', 'zoo', 'zoo', 'smell', 'experience', 'india', 'zoo', 'day', 'noon', 'hour', 'ticket', 'time', 'car', 'facility', 'day', 'zoo', 'specie', 'animal', 'cat', 'giraffe', 'rhino', 'cat', 'chimpanzee', 'enclosure', 'lane', 'km', 'walk', 'enclosure', 'close', 'km', 'zoo', 'authority', 'chair', 'people', 'tourists', 'teasing', 'note', 'visitor', 'plan', 'time', 'food', 'baby', 'start', 'right', 'breakfast', 'energy', 'end', 'walk'], ['green', 'work', 'authority', 'collection', 'animal', 'reptile', 'visit'], ['zoo', 'year', 'way', 'feeling', 'life', 'sanctuary', 'animal', 'feeling', 'zoo', 'zoo', 'stench', 'variety', 'bird', 'fowl', 'parakeet', 'peacock', 'etc', 'game', 'animal', 'variety', 'deer', 'zebra', 'giraffe', 'rhino', 'hippo', 'etc', 'visit', 'visiting', 'mysore', 'zoo'], ['zoo', 'middle', 'city', 'lot', 'animal', 'maintenance', 'amenity', 'kid', 'family', 'place', 'weekend', 'bit'], ['zoo', 'way', 'animal', 'mysore', 'zoo', 'place', 'animal', 'world'], ['animal', 'bird', 'scavenger', 'walking', 'shoe', 'estate', 'foot', 'word', 'advice', 'book', 'seat', 'entrance', 'ride', 'zoo', 'way', 'zoo'], ['zoo', 'tourist', 'zoo', 'india', 'diversity', 'organization', 'zoo', 'entry', 'fee', 'rate', 'india', 'absolute', 'interest', 'life'], ['year', 'zoo', 'place', 'variety', 'animal', 'place'], ['diff', 'kind', 'specie', 'security', 'strength', 'thanks', 'team'], ['place', 'vehicle', 'toy', 'shop', 'animal', 'lover', 'home', 'day', 'notch', 'fun'], ['animal', 'bird', 'animal', 'animal', 'animal'], ['zoo', 'enclosure', 'ecosystem', 'animal', 'trivia', 'animal', 'animal', 'battery', 'vehicle', 'boon', 'people', 'mum', 'difficulty'], ['like', 'zoo', 'facility', 'cafe', 'zoo'], ['hand', 'park', 'india', 'year', 'son', 'month', 'daughter', 'n', 'n', 'battery', 'hr', 'round', 'park', 'staff', 'n', 'facility'], ['everything', 'neat', 'way', 'variety', 'animal', 'arrangement'], ['attraction', 'tourist', 'acre', 'animal', 'zoo', 'day', 'animal', 'variety', 'place', 'child', 'age', 'group'], ['visit', 'zoo', 'battery', 'car', 'help', 'car', 'system', 'need', 'name', 'person', 'car', 'chit', 'payment', 'facility', 'everything', 'kid'], ['place', 'zoo', 'animal', 'entry', 'ticket'], ['surprise', 'animal', 'animal', 'selection', 'price', 'bargain'], ['animal', 'park', 'please', 'book', 'battery', 'vehicle', 'hour'], ['zoo', 'yr', 'maintenance', 'policy', 'variety', 'animal', 'animal', 'space', 'information', 'board', 'animal', 'gripe', 'availability', 'food', 'counter', 'anything', 'home', 'cafeteria', 'canteen', 'way', 'towards', 'end', 'zoo', 'kid', 'snack', 'counter', 'counter', 'canteen', 'out-of-stock', 'bathroom', 'toilet'], ['zoo', 'place', 'mysore', 'concept', 'animal'], ['zoo', 'india', 'half', 'day', 'zoo', 'signbaords', 'zoo', 'cleanliness', 'mention', 'mysore'], ['lot', 'zoo', 'animal', 'golf', 'cart', 'booking', 'asthetics', 'level', 'plastic', 'policy', 'anything', 'plastic', 'deposit', 'show', 'plastic', 'zebra', 'chimp', 'deer', 'peacock', 'etc', 'water', 'sun', 'block', 'eataries'], ['zoo', 'kid', 'place', 'zoo', 'animal', 'child', 'giraffe', 'star', 'attraction', 'course', 'elephant', 'favourite'], ['variety', 'animal', 'zoo', 'india', 'tigers', 'jaguars', 'lions'], ['animal', 'place', 'lot', 'pollution', 'place', 'case', 'mysore', 'atmosphere', 'jungle', 'city', 'animal', 'couple', 'year', 'time', 'place', 'charm', 'zoo', 'visit', 'time', 'pity', 'animal'], ['lot', 'zoo', 'hr', 'animal', 'zoo'], ['clean', 'zoo', 'specie', 'bird', 'animal', 'tiger', 'lion', 'bird', 'langoors', 'alligator', 'elephant', 'list', 'variety', 'snake', 'zoo', 'zoo', 'car'], ['variety', 'mysore', 'zoo', 'plan', 'time', '2hrs', 'zoo', 'weekend', 'festival'], ['zoo', 'something', 'look', 'kid', 'time', 'mysore', 'review', 'friend', 'day', 'trip', 'bangalore', 'idea', 'amount', 'walk', 'park', 'car', 'park', 'entry', 'path', 'animal', 'animal', 'atmosphere', 'space', 'animal', 'area', 'luggage', 'room', 'store', 'bag', 'son', 'cycle', 'luggage', 'room', 'con', 'track', 'kid', 'stroller', 'scooter', 'wasnt', 'dont', 'logic', 'walkway', 'staff', 'roam', 'cycle', 'childrens', 'food', 'option', 'nothing', 'zoo', 'restuarant', 'food', 'option', 'vist', 'wont', 'mind', 'kid'], ['neat', 'environment', 'zoo', 'type', 'animal', 'bird', 'plenty', 'peacock', 'flair', 'child', 'place', 'everyone'], ['arena', 'variety', 'animal', 'display', 'lot', 'time', 'entertainment', 'kid', 'golf', 'cart', 'journey', 'place', 'time'], ['visit', 'lot', 'animal', 'ride', 'visit', 'time', 'entry', 'ticket'], ['ton', 'animal', 'exhibit', 'adoption', 'policy', 'idea'], ['title', 'zoo', 'moscow', 'mysore', 'zoo', 'karnataka', 'kept', 'animal', 'variety', 'animal', 'rhino', 'premise', 'road', 'board', 'bit', 'pity'], ['place', 'lot', 'animal', 'bird', 'lot', 'greenery', 'bench', 'citizen', 'rest', 'lot', 'walking'], ['clean', 'zoo', 'specie', 'bird', 'animal', 'reptile', 'son', 'zoo', 'animal', 'tiger', 'lion', 'bird', 'langoors', 'alligator', 'elephant', 'list', 'variety', 'snake', 'zoo', 'zoo', 'car'], ['battery', 'ride', 'time', 'hour', 'hour', 'zoo', 'kid'], ['month', 'garden', 'zoo', 'friend', 'place', 'animal', 'bird', 'lover', 'zoo', 'garden', 'animal', 'bird', 'world', 'animal', 'space', 'trench', 'bird', 'enclosure', 'bird', 'zoo', 'zoo', 'india'], ['concept', 'zoo', 'superb', 'amenity', 'facility', 'plenty', 'animal', 'bird', 'treat', 'eye', 'till', 'date', 'greenery', 'care', 'specie', 'animal', 'vehicle', 'zoo', 'hour', 'everything', 'place', 'mysore'], ['shri', 'chamarajendra', 'garden', 'zoo', 'india', 'range', 'specie', '“', 'mysore', 'zoo', 'name', 'garden', 'founding', 'maharaja', 'shri', 'mysore', 'king'], ['daughter', 'year', 'zoo', 'something', 'experience', 'car', 'zoo', 'zoo', 'problem', 'walking', 'time', 'place', 'point', 'place', 'animal', 'zoo', 'variety', 'peacock', 'giraffe', 'leopard', 'jaguar', 'tiger', 'visit', 'problem', 'way', 'cage', 'made', 'net', 'cage', 'glass', 'partition', 'leopard', 'zoo'], ['cleanest', 'zoo', 'variety', 'spicies', 'animal', 'reptile'], ['specie', 'bird', 'animal', 'place', 'charge', 'service', 'maintainence', 'bit'], ['wasool', 'zoo', 'lot', 'animal', 'lot'], ['zoo', 'country', 'space', 'animal', 'walkway', 'environment', 'chennai', 'trivandrum', 'animal', 'height', 'enclosure', 'closeup', 'lion', 'fun'], ['animal', 'corner', 'mysore', 'palace', 'elephant'], ['zoo', 'zoo', 'zoo', 'india', 'variety', 'animal', 'bird'], ['zoo', 'wheel', 'chair', 'car', 'access', 'animal', 'habitat', 'place', 'food', 'option', 'food'], ['animal', 'kid', 'people', 'kid', 'ride', 'diverse', 'animal', 'zoo'], ['super', 'family', 'experience', 'zoo', 'child'], ['time', 'weekend', 'reason', 'part', 'day', 'journey', 'zoo', 'spending', 'time', 'location', 'watching', 'reading', 'animal', 'ton', 'fun', 'education', 'kid', 'gen-y', 'natgeo', 'discovery', 'nature', 'feel', 'animal', 'span', 'zoo', 'variety', 'animal', 'kinda', 'visitor', 'photography', 'option', 'advise', 'flash', 'cage', 'rail', 'way', 'fan', 'zoo', 'treatment', 'animal', 'captivity', 'sake', 'evil'], ['boat', 'trip', 'lake', 'guide', 'butterfly', 'garden', 'camera', 'buff', 'peacock', 'bird', 'exhibit', 'course', 'dont', 'tower', 'view', 'lake'], ['point', 'lot', 'animal', 'bird', 'roof', 'right', 'giragges', 'variety', 'bird', 'monkey', 'lephants', 'tusker', 'worth', 'child', 'presence', 'battery', 'vehicle', 'tourist', 'provision', 'amenity', 'kid', 'people', 'battery', 'car', 'online', 'facility', 'congestion', 'hassle', 'privilege', 'case', 'battery', 'vehicle', 'ride', 'online', 'priority', 'booking', 'idea', 'zoo', 'time', 'congestion', 'access', 'vehicle', 'restaurant', 'complex'], ['zoo', 'india', 'layout', 'svery', 'animal', 'minute', 'niece', 'giraff', 'entrance', 'tiger', 'day', 'leopard', 'enclosure'], ['place', 'greenery', 'garden', 'heart', 'facility', 'car', 'person', 'time'], ['zoo', 'year', 'way', 'zoo', 'effort', 'zoo', 'plastic', 'job', 'enclosure', 'animal', 'hour', 'zoo', 'variety', 'animal', 'lot', 'area', 'board', 'visit', 'smoother'], ['zoo', 'india', 'variety', 'bird', 'animal', 'snake', 'animal', 'flora', 'fauna', 'place'], ['fan', 'zoo', 'place', 'animal', 'bird', 'confinement', 'mysore', 'zoo', 'lover', 'place', 'mysore', 'answer'], ['well', 'zoo', 'option', 'battery', 'vehicle', 'family', 'refreshment', 'option', 'yard', 'facility', 'ground', 'one', 'mud', 'slush', 'point'], ['giraffe', 'attraction', 'place', 'snake', 'park', 'baboon', 'show', 'place', 'whole'], ['attraction', 'kid', 'zoo', \"b'lore\", 'tiger', 'leopard', 'wild', 'variety', 'bird', 'monkey', 'zoo', 'km', 'food', 'start', 'refreshment', 'canteen', 'end', 'zoo'], ['zoo', 'animal', 'bird', 'tiger', 'lion', 'visitor', 'zoo'], ['place', 'standard', 'collection', 'animal', 'bird', 'premise', 'cleanliness', 'place', 'number', 'visitor', 'place', 'caters', 'city'], ['number', 'animal', 'bird', 'place', 'child', 'website', 'visitor', 'pm', 'piece', 'advice', 'zoo', 'area', 'route', 'exit', 'something', 'folk', 'child', 'alternative', 'vehicle', 'option', 'queue', 'vehicle'], ['cart', 'tour', 'kim', 'hour', 'nature'], ['zoo', 'india', 'zoo', 'parking', 'vehicle', 'vehicle', 'zoo', 'daughter'], ['zoo', 'mess', 'lot', 'specie', 'kid'], ['zoon', 'india', 'kid', 'variety', 'animal', 'elephant', 'corbras', 'jaguar', 'family', 'golf', 'cart', 'zoon', 'kilometer', 'atleast', 'hour', 'kid'], ['walk', 'zoo', 'varity', 'wildlife', 'tiger', 'lion', 'elephant', 'deer', 'leopard', 'drinking', 'water', 'kid', 'facility', 'battery', 'vehicle', 'walk', 'visit', 'side', 'nature', 'environment'], ['rarest', 'breed', 'animal', 'collection', 'animal', 'snake', 'lion', 'name', 'visit', 'vacation', 'time', 'time'], ['place', 'adult', 'kid', 'infosys', 'creature', 'monkey', 'mumkeys', 'bird', 'human', 'site', 'cheetah', 'deer'], ['zoo', 'india', 'size', 'lot', 'vehicle', 'journey', 'vehicle', 'place'], ['visit', 'must-go', 'lot', 'lot', 'animal', 'gallery', 'hour', 'time', 'visit'], ['pleasure', 'zoo', 'neat', 'use', 'plastic', 'enclosure', 'information'], ['zoo', 'battery', 'car', 'trek', 'woman', 'kid', 'interest', 'halfway', 'battery', 'car', 'attraction'], ['yesterday', 'june', 'expectation', 'zoo', 'india', 'one', 'something', 'singapore', 'york', 'time', 'bannerghatta', 'zoo', 'humor', 'point', 'view', 'ticket', 'adult', 'weekend', 'child', 'get', 'entry', 'restroom', 'water', 'bottle', 'r', 'refundable', 'gate', 'clean', 'r', 'refundable', 'plastic', 'bottle', 'cage', 'aviary', 'couple', 'place', 'food', 'refreshments', 'wrapper', 'food', 'refreshment', 'animal', 'star', 'show', 'variety', 'zoo', 'elephant', 'chimpanzee', 'attention', 'detail', 'enclosure', 'area', 'walkway', 'zoo', 'labelling', 'direction', 'renovation', 'expansion', 'star'], ['park', 'home', 'specie', 'anaconda', 'delight', 'kobra', 'animal', 'animal', 'care', 'authority', 'giraffe', 'elephant', 'treat'], ['zoo', 'india', 'one', 'zoo', 'city', 'day', 'jun', 'place', 'cover', 'place', 'collection', 'bird', 'animal', 'kid', 'place', 'relaxing', 'time', 'nature', 'time', 'family', 'friend', 'visitor', 'schedule', 'hour', 'visit'], ['collection', 'bird', 'reptile', 'course', 'lion', 'kid', 'trip', 'mysore', 'visit', 'place'], ['zoo', 'km', 'option', 'buggy', 'car', 'ride', 'zoo', 'walk', 'time', 'picture', 'animal', 'type', 'animal', 'zoo', 'zoo', 'tiger', 'time', 'zoo', 'animal', 'animal', 'crocodile', 'peacock', 'type', 'bird', 'monkey', 'elephant', 'lion', 'snake', 'bear', 'place', 'kid'], ['well', 'zoo', 'specie', 'bird', 'animal', 'area', 'specie', 'animal'], ['mysore', 'zoo', 'beauty', 'area', 'zoo', 'collection', 'animal', 'bird', 'reptile', 'part', 'world', 'kid', 'destination', 'kid', 'place'], ['trepidation', 'animal', 'lover', 'animal', 'generalising', 'bit', 'zoo', 'number', 'zoo', 'doubt', 'one', 'range', 'animal', 'animal', 'exception', 'enclosure', 'entrance', 'fee', 'charge', 'foreigners', 'letdown', 'display', 'snake', 'thing', 'ball', 'window', 'display', 'bit', 'inside', 'king', 'cobra', 'home', 'mysore', 'hour', 'thing', 'morning'], ['kind', 'kid', 'family', 'zoo', 'god', 'visit', 'spread', 'area', 'zoo', 'attraction', 'day', 'layout', 'place', 'break', 'collection', 'experience', 'lion', 'den', 'giraffe', 'park', 'exit', 'experience', 'eatery', 'coffee', 'shop', 'restaurant', 'construction', 'place', 'mysore']]\n"
     ]
    }
   ],
   "source": [
    "# Exclude any reviews that contained only stopwords as these reviews will be blank or empty sublists []\n",
    "filtered_rev_words=[review for review in filtered_rev_words if len(review)>=1]\n",
    "print(len(filtered_rev_words),filtered_rev_words[:100])"
   ]
  },
  {
   "cell_type": "code",
   "execution_count": 197,
   "metadata": {
    "colab": {
     "base_uri": "https://localhost:8080/",
     "height": 1000
    },
    "id": "w5HfqMGoIYem",
    "outputId": "5c080c76-f53c-4a4e-e628-9fdbc09fdf52"
   },
   "outputs": [
    {
     "data": {
      "image/png": "[encoded data removed]",
      "text/plain": [
       "<Figure size 1440x1584 with 1 Axes>"
      ]
     },
     "metadata": {
      "needs_background": "light"
     },
     "output_type": "display_data"
    }
   ],
   "source": [
    "# Barplot to visualize the 100 most common words using FreqDist and barplots\n",
    "\n",
    "list_of_words = [word for review in filtered_rev_words for word in review]\n",
    "common_word_freq=FreqDist(list_of_words).most_common(100)\n",
    "word_list = common_word_freq[::-1]\n",
    "\n",
    "words,freq = [],[]\n",
    "for word in word_list:\n",
    "    words.append(word[0])\n",
    "    freq.append(word[1])\n",
    "x=np.array(words)\n",
    "y=np.array(freq)\n",
    "\n",
    "plt.figure(figsize=(20,22))\n",
    "plt.barh(x,y,color=\"lightblue\")\n",
    "plt.show()"
   ]
  },
  {
   "cell_type": "code",
   "execution_count": 198,
   "metadata": {
    "colab": {
     "base_uri": "https://localhost:8080/"
    },
    "id": "IvhKzm0rIbXU",
    "outputId": "59814ba0-37c8-4d8a-ce9f-a99f4e767017"
   },
   "outputs": [
    {
     "name": "stdout",
     "output_type": "stream",
     "text": [
      "[('zoo', 139), ('animal', 111), ('place', 48), ('bird', 38), ('kid', 30), ('variety', 28), ('time', 24), ('visit', 19), ('mysore', 19), ('lot', 18), ('india', 17), ('car', 15), ('vehicle', 15), ('lion', 12), ('enclosure', 12), ('specie', 12), ('hour', 12), ('battery', 12), ('elephant', 11), ('day', 11), ('tiger', 10), ('park', 10), ('giraffe', 9), ('facility', 9), ('food', 9), ('plastic', 8), ('walk', 8), ('snake', 8), ('cart', 8), ('way', 8), ('child', 8), ('option', 8), ('family', 7), ('collection', 7), ('area', 7), ('km', 6), ('leopard', 6), ('country', 6), ('experience', 6), ('bit', 6), ('reptile', 6), ('golf', 6), ('visitor', 6), ('year', 6), ('peacock', 6), ('ride', 6), ('attraction', 6), ('garden', 6), ('tour', 5), ('deer', 5), ('ticket', 5), ('space', 5), ('part', 5), ('one', 5), ('city', 5), ('entry', 5), ('number', 4), ('cat', 4), ('entrance', 4), ('etc', 4), ('counter', 4), ('clean', 4), ('n', 4), ('feel', 4), ('jungle', 4), ('name', 4), ('end', 4), ('walking', 4), ('greenery', 4), ('world', 4), ('people', 4), ('weekend', 4), ('lover', 4), ('home', 4), ('something', 4), ('point', 4), ('cage', 4), ('nature', 4), ('monkey', 4), ('group', 3), ('exhibit', 3), ('bag', 3), ('snack', 3), ('adult', 3), ('cleanliness', 3), ('king', 3), ('treat', 3), ('zebra', 3), ('premise', 3), ('restaurant', 3), ('thing', 3), ('rhino', 3), ('authority', 3), ('amenity', 3), ('tourist', 3), ('fun', 3), ('son', 3), ('daughter', 3), ('everything', 3), ('neat', 3)]\n"
     ]
    }
   ],
   "source": [
    "print(common_word_freq)"
   ]
  },
  {
   "cell_type": "code",
   "execution_count": 199,
   "metadata": {
    "id": "z3-eLvG_Iek0"
   },
   "outputs": [],
   "source": [
    "# Revising the stopwords based of above analysis\n",
    "stop_words_inclusions = [\"...\",\"..\",'phone','good','bad','lenovo','k8','note','product',\n",
    "                         'mobile','hai','please','pls','star','hi','ho','ok','superb','handset']\n",
    "stop_words = stop_words + stop_words_inclusions\n",
    "\n",
    "\n",
    "#isalnum() to remove emoji an isnumeric() to remove only number tokens present in the list\n",
    "#len(word)!=1 will eliminate all one letter tokens such as 'u','i' etc.\n",
    "final_rev_words = []\n",
    "for review in filtered_rev_words:\n",
    "    stopwords_removed_review=[]\n",
    "    for word in review:\n",
    "        if word not in stop_words and word.isalnum() and (not word.isnumeric()) and len(word)!=1:\n",
    "            stopwords_removed_review.append(word)\n",
    "    final_rev_words.append(stopwords_removed_review)"
   ]
  },
  {
   "cell_type": "code",
   "execution_count": 200,
   "metadata": {
    "colab": {
     "base_uri": "https://localhost:8080/"
    },
    "id": "m0Xkk8SRIhON",
    "outputId": "3448f399-330b-4510-a1f3-e677402618e2"
   },
   "outputs": [
    {
     "name": "stdout",
     "output_type": "stream",
     "text": [
      "100 [['zoo', 'number', 'cat', 'mammal', 'zoo', 'car', 'group', 'exhibit', 'manner', 'plastic', 'bag', 'container', 'zoo', 'snack', 'bag', 'place', 'snack', 'newspaper', 'cone', 'parking', 'street', 'entrance'], ['size', 'walk', 'min', 'tour', 'animal', 'tiger', 'lion', 'wild', 'buffalo', 'deer', 'snake', 'elephant', 'etc', 'magnificent', 'giraffe', 'visit', 'time', 'ticket', 'counter', 'price', 'adult', 'plastic', 'stuff', 'sticker', 'cleanliness', 'clean', 'peace', 'mind'], ['zoo', 'animal', 'feel', 'sec', 'visit', 'management'], ['zoo', 'lot', 'expectation', 'mark', 'effect', 'jungle', 'safari', 'animal', 'zoo', 'wise', 'zoo', 'india', 'animal', 'kid'], ['govt', 'run', 'zoo', 'animal', 'enclosure', 'space', 'name', 'sponsor', 'front', 'enclosure', 'zoo', 'contribution', 'zoo', 'foul', 'smell', 'tree', 'sun', 'part', 'jungle', 'reality', 'zoo', 'center', 'town', 'variety', 'animal', 'corner', 'one', 'walk', 'km', 'king', 'jungle', 'lion', 'lioness', 'energy', 'giraffee', 'end', 'animal', 'center', 'city'], ['zoo', 'spread', 'landscape', 'variety', 'specie', 'bird', 'treat', 'cat', 'tiger', 'lion', 'leopard', 'ape', 'family', 'gorilla', 'orangutan', 'others', 'hour', 'hand', 'tour', 'zoo', 'cart', 'walking', 'heat', 'age', 'group'], ['country', 'visit', 'animal', 'nameplate'], ['country', 'visit', 'animal', 'nameplate'], ['experience', 'zoo', 'post', 'driving', 'bit', 'zoo', 'stretch', 'zoo', 'variety', 'animal', 'reptile', 'bird', 'place', 'mysore'], ['zoo', 'country', 'tour', 'campus', 'golf', 'cart', 'variety', 'animal', 'section', 'bird', 'part', 'feel', 'bird'], ['zoo', 'country', 'tour', 'campus', 'golf', 'cart', 'variety', 'animal', 'section', 'bird', 'part', 'feel', 'bird'], ['place', 'kid', 'zoo', 'variety', 'animal', 'bird', 'place', 'greenery', 'day', 'umbrella', 'cover', 'kid', 'place', 'animal', 'cartoon', 'movie', 'discovery', 'channel'], ['park', 'country', 'globe', 'elephant', 'gorilla', 'zebra', 'giraffe', 'premise', 'utmost', 'level', 'creature', 'prefer', 'km', 'golf', 'cart', 'park'], ['place', 'kid', 'restaurant'], ['thing', 'singapore', 'zoo', 'world', 'zoo', 'zoo', 'smell', 'experience', 'india', 'zoo', 'day', 'noon', 'hour', 'ticket', 'time', 'car', 'facility', 'day', 'zoo', 'specie', 'animal', 'cat', 'giraffe', 'rhino', 'cat', 'chimpanzee', 'enclosure', 'lane', 'km', 'walk', 'enclosure', 'close', 'km', 'zoo', 'authority', 'chair', 'people', 'tourists', 'teasing', 'visitor', 'plan', 'time', 'food', 'baby', 'start', 'right', 'breakfast', 'energy', 'end', 'walk'], ['green', 'work', 'authority', 'collection', 'animal', 'reptile', 'visit'], ['zoo', 'year', 'way', 'feeling', 'life', 'sanctuary', 'animal', 'feeling', 'zoo', 'zoo', 'stench', 'variety', 'bird', 'fowl', 'parakeet', 'peacock', 'etc', 'game', 'animal', 'variety', 'deer', 'zebra', 'giraffe', 'rhino', 'hippo', 'etc', 'visit', 'visiting', 'mysore', 'zoo'], ['zoo', 'middle', 'city', 'lot', 'animal', 'maintenance', 'amenity', 'kid', 'family', 'place', 'weekend', 'bit'], ['zoo', 'way', 'animal', 'mysore', 'zoo', 'place', 'animal', 'world'], ['animal', 'bird', 'scavenger', 'walking', 'shoe', 'estate', 'foot', 'word', 'advice', 'book', 'seat', 'entrance', 'ride', 'zoo', 'way', 'zoo'], ['zoo', 'tourist', 'zoo', 'india', 'diversity', 'organization', 'zoo', 'entry', 'fee', 'rate', 'india', 'absolute', 'interest', 'life'], ['year', 'zoo', 'place', 'variety', 'animal', 'place'], ['diff', 'kind', 'specie', 'security', 'strength', 'thanks', 'team'], ['place', 'vehicle', 'toy', 'shop', 'animal', 'lover', 'home', 'day', 'notch', 'fun'], ['animal', 'bird', 'animal', 'animal', 'animal'], ['zoo', 'enclosure', 'ecosystem', 'animal', 'trivia', 'animal', 'animal', 'battery', 'vehicle', 'boon', 'people', 'mum', 'difficulty'], ['like', 'zoo', 'facility', 'cafe', 'zoo'], ['hand', 'park', 'india', 'year', 'son', 'month', 'daughter', 'battery', 'hr', 'round', 'park', 'staff', 'facility'], ['everything', 'neat', 'way', 'variety', 'animal', 'arrangement'], ['attraction', 'tourist', 'acre', 'animal', 'zoo', 'day', 'animal', 'variety', 'place', 'child', 'age', 'group'], ['visit', 'zoo', 'battery', 'car', 'help', 'car', 'system', 'need', 'name', 'person', 'car', 'chit', 'payment', 'facility', 'everything', 'kid'], ['place', 'zoo', 'animal', 'entry', 'ticket'], ['surprise', 'animal', 'animal', 'selection', 'price', 'bargain'], ['animal', 'park', 'book', 'battery', 'vehicle', 'hour'], ['zoo', 'yr', 'maintenance', 'policy', 'variety', 'animal', 'animal', 'space', 'information', 'board', 'animal', 'gripe', 'availability', 'food', 'counter', 'anything', 'home', 'cafeteria', 'canteen', 'way', 'towards', 'end', 'zoo', 'kid', 'snack', 'counter', 'counter', 'canteen', 'bathroom', 'toilet'], ['zoo', 'place', 'mysore', 'concept', 'animal'], ['zoo', 'india', 'half', 'day', 'zoo', 'signbaords', 'zoo', 'cleanliness', 'mention', 'mysore'], ['lot', 'zoo', 'animal', 'golf', 'cart', 'booking', 'asthetics', 'level', 'plastic', 'policy', 'anything', 'plastic', 'deposit', 'show', 'plastic', 'zebra', 'chimp', 'deer', 'peacock', 'etc', 'water', 'sun', 'block', 'eataries'], ['zoo', 'kid', 'place', 'zoo', 'animal', 'child', 'giraffe', 'attraction', 'course', 'elephant', 'favourite'], ['variety', 'animal', 'zoo', 'india', 'tigers', 'jaguars', 'lions'], ['animal', 'place', 'lot', 'pollution', 'place', 'case', 'mysore', 'atmosphere', 'jungle', 'city', 'animal', 'couple', 'year', 'time', 'place', 'charm', 'zoo', 'visit', 'time', 'pity', 'animal'], ['lot', 'zoo', 'hr', 'animal', 'zoo'], ['clean', 'zoo', 'specie', 'bird', 'animal', 'tiger', 'lion', 'bird', 'langoors', 'alligator', 'elephant', 'list', 'variety', 'snake', 'zoo', 'zoo', 'car'], ['variety', 'mysore', 'zoo', 'plan', 'time', '2hrs', 'zoo', 'weekend', 'festival'], ['zoo', 'something', 'look', 'kid', 'time', 'mysore', 'review', 'friend', 'day', 'trip', 'bangalore', 'idea', 'amount', 'walk', 'park', 'car', 'park', 'entry', 'path', 'animal', 'animal', 'atmosphere', 'space', 'animal', 'area', 'luggage', 'room', 'store', 'bag', 'son', 'cycle', 'luggage', 'room', 'con', 'track', 'kid', 'stroller', 'scooter', 'wasnt', 'dont', 'logic', 'walkway', 'staff', 'roam', 'cycle', 'childrens', 'food', 'option', 'nothing', 'zoo', 'restuarant', 'food', 'option', 'vist', 'wont', 'mind', 'kid'], ['neat', 'environment', 'zoo', 'type', 'animal', 'bird', 'plenty', 'peacock', 'flair', 'child', 'place', 'everyone'], ['arena', 'variety', 'animal', 'display', 'lot', 'time', 'entertainment', 'kid', 'golf', 'cart', 'journey', 'place', 'time'], ['visit', 'lot', 'animal', 'ride', 'visit', 'time', 'entry', 'ticket'], ['ton', 'animal', 'exhibit', 'adoption', 'policy', 'idea'], ['title', 'zoo', 'moscow', 'mysore', 'zoo', 'karnataka', 'kept', 'animal', 'variety', 'animal', 'rhino', 'premise', 'road', 'board', 'bit', 'pity']]\n"
     ]
    }
   ],
   "source": [
    "# Clearing any reviews which are now empty lists after removal of revised stop words\n",
    "final_rev_words=[review for review in final_rev_words if len(review)>=1]\n",
    "print(len(final_rev_words),final_rev_words[:50])"
   ]
  },
  {
   "cell_type": "code",
   "execution_count": 201,
   "metadata": {
    "colab": {
     "base_uri": "https://localhost:8080/",
     "height": 1000
    },
    "id": "WhMK8NaOIjB7",
    "outputId": "228605a5-9ad0-4e1f-d413-92817753886c"
   },
   "outputs": [
    {
     "data": {
      "image/png": "[encoded data removed]",
      "text/plain": [
       "<Figure size 1440x1584 with 1 Axes>"
      ]
     },
     "metadata": {
      "needs_background": "light"
     },
     "output_type": "display_data"
    }
   ],
   "source": [
    "# Barplot to visualize the 100 most common words using FreqDist and barplots\n",
    "\n",
    "list_of_words = [word for review in final_rev_words for word in review]\n",
    "word_freq=FreqDist(list_of_words).most_common(100)\n",
    "word_list_2 = word_freq[::-1]\n",
    "\n",
    "words,freq = [],[]\n",
    "for word in word_list_2:\n",
    "    words.append(word[0])\n",
    "    freq.append(word[1])\n",
    "x=np.array(words)\n",
    "y=np.array(freq)\n",
    "\n",
    "plt.figure(figsize=(20,22))\n",
    "plt.barh(x,y,color=\"plum\")\n",
    "plt.show()"
   ]
  },
  {
   "cell_type": "code",
   "execution_count": null,
   "metadata": {},
   "outputs": [],
   "source": []
  },
  {
   "cell_type": "markdown",
   "metadata": {
    "id": "CA85O9GrI0Aw"
   },
   "source": [
    "### Task 8: Create a topic model using LDA on the cleaned-up data with 12 topics."
   ]
  },
  {
   "cell_type": "code",
   "execution_count": 202,
   "metadata": {
    "colab": {
     "base_uri": "https://localhost:8080/"
    },
    "id": "KzRfTULeI1jq",
    "outputId": "403b2d26-7a64-4553-f26d-edfc3d35c77f"
   },
   "outputs": [
    {
     "name": "stdout",
     "output_type": "stream",
     "text": [
      "[[(0, 2), (1, 1), (2, 1), (3, 1), (4, 1), (5, 1), (6, 1), (7, 1), (8, 1), (9, 1), (10, 1), (11, 1), (12, 1), (13, 1), (14, 1), (15, 2), (16, 1), (17, 3)], [(14, 1), (18, 1), (19, 1), (20, 1), (21, 1), (22, 1), (23, 1), (24, 1), (25, 1), (26, 1), (27, 1), (28, 1), (29, 1), (30, 1), (31, 1), (32, 1), (33, 1), (34, 1), (35, 1), (36, 1), (37, 1), (38, 1), (39, 1), (40, 1), (41, 1), (42, 1), (43, 1), (44, 1)], [(17, 1), (19, 1), (42, 1), (45, 1), (46, 1), (47, 1)], [(17, 3), (19, 2), (48, 1), (49, 1), (50, 1), (51, 1), (52, 1), (53, 1), (54, 1), (55, 1), (56, 1)], [(17, 4), (19, 3), (28, 1), (43, 1), (51, 2), (57, 2), (58, 1), (59, 1), (60, 1), (61, 2), (62, 1), (63, 1), (64, 1), (65, 1), (66, 1), (67, 1), (68, 1), (69, 1), (70, 1), (71, 1), (72, 1), (73, 1), (74, 1), (75, 1), (76, 1), (77, 1), (78, 1), (79, 1), (80, 1), (81, 1), (82, 1)], [(2, 1), (7, 1), (17, 2), (28, 1), (39, 1), (41, 1), (82, 1), (83, 1), (84, 1), (85, 1), (86, 1), (87, 1), (88, 1), (89, 1), (90, 1), (91, 1), (92, 1), (93, 1), (94, 1), (95, 1), (96, 1), (97, 1), (98, 1), (99, 1)], [(19, 1), (42, 1), (100, 1), (101, 1)], [(19, 1), (42, 1), (100, 1), (101, 1)], [(13, 1), (17, 3), (19, 1), (82, 1), (85, 1), (102, 1), (103, 1), (104, 1), (105, 1), (106, 1), (107, 1), (108, 1)], [(17, 1), (19, 1), (41, 1), (45, 1), (73, 1), (82, 1), (85, 2), (86, 1), (100, 1), (109, 1), (110, 1), (111, 1)], [(17, 1), (19, 1), (41, 1), (45, 1), (73, 1), (82, 1), (85, 2), (86, 1), (100, 1), (109, 1), (110, 1), (111, 1)], [(13, 3), (17, 1), (19, 2), (52, 2), (82, 1), (85, 1), (112, 1), (113, 1), (114, 1), (115, 1), (116, 1), (117, 1), (118, 1), (119, 1)], [(25, 1), (27, 1), (69, 1), (86, 1), (88, 1), (100, 1), (110, 1), (120, 1), (121, 1), (122, 1), (123, 2), (124, 1), (125, 1), (126, 1), (127, 1)], [(13, 1), (52, 1), (128, 1)], [(1, 1), (2, 2), (17, 6), (19, 1), (27, 1), (38, 1), (40, 2), (43, 2), (50, 1), (61, 2), (62, 1), (63, 1), (69, 2), (76, 1), (91, 1), (96, 1), (104, 1), (115, 2), (129, 1), (130, 1), (131, 1), (132, 1), (133, 1), (134, 1), (135, 1), (136, 1), (137, 1), (138, 1), (139, 1), (140, 1), (141, 1), (142, 1), (143, 1), (144, 1), (145, 1), (146, 1), (147, 1), (148, 1), (149, 1)], [(19, 1), (42, 1), (107, 1), (129, 1), (150, 1), (151, 1), (152, 1)], [(17, 4), (19, 2), (24, 1), (26, 2), (27, 1), (42, 1), (82, 2), (85, 1), (105, 1), (127, 1), (141, 1), (153, 2), (154, 1), (155, 1), (156, 1), (157, 1), (158, 1), (159, 1), (160, 1), (161, 1), (162, 1), (163, 1), (164, 1)], [(13, 1), (17, 1), (19, 1), (52, 1), (53, 1), (58, 1), (87, 1), (102, 1), (165, 1), (166, 1), (167, 1), (168, 1)], [(13, 1), (17, 2), (19, 2), (105, 1), (149, 1), (163, 1)], [(5, 1), (17, 2), (19, 1), (85, 1), (99, 1), (163, 1), (169, 1), (170, 1), (171, 1), (172, 1), (173, 1), (174, 1), (175, 1), (176, 1), (177, 1)]] \n",
      "\n",
      "No of reviews: 100 \n",
      "\n",
      "No of unique words: 495 \n",
      "\n"
     ]
    }
   ],
   "source": [
    "# First creating the id2word Dictionary and corpus of words required for the LDA topic model\n",
    "\n",
    "id2word = corpora.Dictionary(final_rev_words)\n",
    "\n",
    "corpus =[]\n",
    "for review in final_rev_words:\n",
    "    new = id2word.doc2bow(review)\n",
    "    corpus.append(new)\n",
    "\n",
    "print(corpus[:20],\"\\n\")\n",
    "print(\"No of reviews:\",len(corpus),\"\\n\")\n",
    "print(\"No of unique words:\",len(id2word),\"\\n\")"
   ]
  },
  {
   "cell_type": "code",
   "execution_count": 203,
   "metadata": {
    "id": "v6avTbNyI3TI"
   },
   "outputs": [],
   "source": [
    "# Create a topic model using LDA on the cleaned-up data with 12 topics\n",
    "lda_model = gensim.models.ldamodel.LdaModel(corpus=corpus,\n",
    "                                           id2word=id2word,\n",
    "                                           num_topics=12,\n",
    "                                           random_state=47,\n",
    "                                           update_every=1,\n",
    "                                           chunksize=100,\n",
    "                                           passes=10,\n",
    "                                           alpha=\"auto\")"
   ]
  },
  {
   "cell_type": "code",
   "execution_count": 204,
   "metadata": {
    "colab": {
     "base_uri": "https://localhost:8080/"
    },
    "id": "iAr2RM48I5O7",
    "outputId": "0e37694f-99c7-4658-bd17-896eb90146ce"
   },
   "outputs": [
    {
     "data": {
      "text/plain": [
       "[(0,\n",
       "  '0.045*\"animal\" + 0.031*\"kid\" + 0.030*\"zoo\" + 0.030*\"hour\" + 0.023*\"time\" + 0.023*\"plastic\" + 0.023*\"lot\" + 0.023*\"battery\" + 0.015*\"place\" + 0.015*\"visit\"'),\n",
       " (1,\n",
       "  '0.059*\"animal\" + 0.059*\"zoo\" + 0.029*\"time\" + 0.028*\"place\" + 0.021*\"visitor\" + 0.021*\"day\" + 0.015*\"kid\" + 0.015*\"variety\" + 0.014*\"india\" + 0.014*\"vehicle\"'),\n",
       " (2,\n",
       "  '0.066*\"animal\" + 0.051*\"zoo\" + 0.025*\"vehicle\" + 0.025*\"place\" + 0.025*\"visit\" + 0.017*\"number\" + 0.017*\"child\" + 0.017*\"bag\" + 0.017*\"snack\" + 0.017*\"reptile\"'),\n",
       " (3,\n",
       "  '0.054*\"animal\" + 0.044*\"zoo\" + 0.030*\"place\" + 0.020*\"visit\" + 0.020*\"time\" + 0.015*\"kid\" + 0.015*\"collection\" + 0.015*\"bird\" + 0.015*\"lion\" + 0.015*\"snake\"'),\n",
       " (4,\n",
       "  '0.166*\"zoo\" + 0.061*\"animal\" + 0.041*\"bird\" + 0.036*\"variety\" + 0.034*\"india\" + 0.024*\"tiger\" + 0.015*\"lion\" + 0.014*\"snake\" + 0.010*\"enclosure\" + 0.010*\"life\"'),\n",
       " (5,\n",
       "  '0.061*\"animal\" + 0.049*\"zoo\" + 0.033*\"lot\" + 0.033*\"kid\" + 0.029*\"place\" + 0.025*\"car\" + 0.017*\"food\" + 0.017*\"battery\" + 0.016*\"time\" + 0.013*\"bird\"'),\n",
       " (6,\n",
       "  '0.067*\"zoo\" + 0.037*\"animal\" + 0.019*\"mysore\" + 0.019*\"counter\" + 0.019*\"garden\" + 0.019*\"variety\" + 0.019*\"enclosure\" + 0.013*\"shri\" + 0.013*\"specie\" + 0.013*\"information\"'),\n",
       " (7,\n",
       "  '0.042*\"visit\" + 0.042*\"nameplate\" + 0.042*\"country\" + 0.042*\"animal\" + 0.002*\"zoo\" + 0.002*\"place\" + 0.002*\"bird\" + 0.002*\"lot\" + 0.002*\"kid\" + 0.002*\"mysore\"'),\n",
       " (8,\n",
       "  '0.044*\"park\" + 0.030*\"place\" + 0.030*\"zoo\" + 0.022*\"giraffe\" + 0.022*\"experience\" + 0.015*\"cart\" + 0.015*\"nature\" + 0.015*\"facility\" + 0.015*\"elephant\" + 0.015*\"battery\"'),\n",
       " (9,\n",
       "  '0.101*\"animal\" + 0.095*\"zoo\" + 0.060*\"bird\" + 0.049*\"place\" + 0.028*\"variety\" + 0.025*\"mysore\" + 0.018*\"specie\" + 0.014*\"kid\" + 0.014*\"cart\" + 0.011*\"bit\"'),\n",
       " (10,\n",
       "  '0.002*\"zoo\" + 0.002*\"animal\" + 0.002*\"place\" + 0.002*\"bird\" + 0.002*\"lot\" + 0.002*\"kid\" + 0.002*\"variety\" + 0.002*\"india\" + 0.002*\"visit\" + 0.002*\"mysore\"'),\n",
       " (11,\n",
       "  '0.092*\"zoo\" + 0.052*\"animal\" + 0.032*\"place\" + 0.024*\"kid\" + 0.020*\"day\" + 0.020*\"time\" + 0.016*\"car\" + 0.016*\"km\" + 0.016*\"food\" + 0.013*\"variety\"')]"
      ]
     },
     "execution_count": 204,
     "metadata": {},
     "output_type": "execute_result"
    }
   ],
   "source": [
    "lda_model.print_topics()"
   ]
  },
  {
   "cell_type": "code",
   "execution_count": 205,
   "metadata": {
    "colab": {
     "base_uri": "https://localhost:8080/"
    },
    "id": "bgzCeQ-LI-AH",
    "outputId": "c285b351-c248-41d5-fe3d-180a8c4c5968"
   },
   "outputs": [
    {
     "name": "stdout",
     "output_type": "stream",
     "text": [
      "0 ['animal', 'kid', 'zoo', 'hour', 'time', 'plastic', 'lot', 'battery']\n",
      "1 ['animal', 'zoo', 'time', 'place', 'visitor', 'day', 'kid', 'variety']\n",
      "2 ['animal', 'zoo', 'vehicle', 'place', 'visit', 'number', 'child', 'bag']\n",
      "3 ['animal', 'zoo', 'place', 'visit', 'time', 'kid', 'collection', 'bird']\n",
      "4 ['zoo', 'animal', 'bird', 'variety', 'india', 'tiger', 'lion', 'snake']\n",
      "5 ['animal', 'zoo', 'lot', 'kid', 'place', 'car', 'food', 'battery']\n",
      "6 ['zoo', 'animal', 'mysore', 'counter', 'garden', 'variety', 'enclosure', 'shri']\n",
      "7 ['visit', 'nameplate', 'country', 'animal', 'zoo', 'place', 'bird', 'lot']\n",
      "8 ['park', 'place', 'zoo', 'giraffe', 'experience', 'cart', 'nature', 'facility']\n",
      "9 ['animal', 'zoo', 'bird', 'place', 'variety', 'mysore', 'specie', 'kid']\n",
      "10 ['zoo', 'animal', 'place', 'bird', 'lot', 'kid', 'variety', 'visit']\n",
      "11 ['zoo', 'animal', 'place', 'kid', 'day', 'time', 'car', 'km']\n"
     ]
    }
   ],
   "source": [
    "# Top terms for each topic.\n",
    "\n",
    "topics=[]\n",
    "topic_terms=[]\n",
    "for idx in range(12):\n",
    "    topics.append(\"Topic \"+ str(idx+1))\n",
    "    terms=[]\n",
    "    for term in lda_model.get_topic_terms(idx,topn=8):\n",
    "        terms.append(id2word[term[0]])\n",
    "    topic_terms.append(terms)\n",
    "\n",
    "for idx in range(12):\n",
    "    print(idx,topic_terms[idx])"
   ]
  },
  {
   "cell_type": "code",
   "execution_count": 206,
   "metadata": {
    "colab": {
     "base_uri": "https://localhost:8080/",
     "height": 300
    },
    "id": "BZRG7qv2JAwD",
    "outputId": "5cf0ba93-84ed-4f2d-e1c2-cd3c9b9b2c00"
   },
   "outputs": [
    {
     "data": {
      "text/html": [
       "<div>\n",
       "<style scoped>\n",
       "    .dataframe tbody tr th:only-of-type {\n",
       "        vertical-align: middle;\n",
       "    }\n",
       "\n",
       "    .dataframe tbody tr th {\n",
       "        vertical-align: top;\n",
       "    }\n",
       "\n",
       "    .dataframe thead th {\n",
       "        text-align: right;\n",
       "    }\n",
       "</style>\n",
       "<table border=\"1\" class=\"dataframe\">\n",
       "  <thead>\n",
       "    <tr style=\"text-align: right;\">\n",
       "      <th></th>\n",
       "      <th>Topic 1</th>\n",
       "      <th>Topic 2</th>\n",
       "      <th>Topic 3</th>\n",
       "      <th>Topic 4</th>\n",
       "      <th>Topic 5</th>\n",
       "      <th>Topic 6</th>\n",
       "      <th>Topic 7</th>\n",
       "      <th>Topic 8</th>\n",
       "      <th>Topic 9</th>\n",
       "      <th>Topic 10</th>\n",
       "      <th>Topic 11</th>\n",
       "      <th>Topic 12</th>\n",
       "    </tr>\n",
       "  </thead>\n",
       "  <tbody>\n",
       "    <tr>\n",
       "      <th>0</th>\n",
       "      <td>animal</td>\n",
       "      <td>animal</td>\n",
       "      <td>animal</td>\n",
       "      <td>animal</td>\n",
       "      <td>zoo</td>\n",
       "      <td>animal</td>\n",
       "      <td>zoo</td>\n",
       "      <td>visit</td>\n",
       "      <td>park</td>\n",
       "      <td>animal</td>\n",
       "      <td>zoo</td>\n",
       "      <td>zoo</td>\n",
       "    </tr>\n",
       "    <tr>\n",
       "      <th>1</th>\n",
       "      <td>kid</td>\n",
       "      <td>zoo</td>\n",
       "      <td>zoo</td>\n",
       "      <td>zoo</td>\n",
       "      <td>animal</td>\n",
       "      <td>zoo</td>\n",
       "      <td>animal</td>\n",
       "      <td>nameplate</td>\n",
       "      <td>place</td>\n",
       "      <td>zoo</td>\n",
       "      <td>animal</td>\n",
       "      <td>animal</td>\n",
       "    </tr>\n",
       "    <tr>\n",
       "      <th>2</th>\n",
       "      <td>zoo</td>\n",
       "      <td>time</td>\n",
       "      <td>vehicle</td>\n",
       "      <td>place</td>\n",
       "      <td>bird</td>\n",
       "      <td>lot</td>\n",
       "      <td>mysore</td>\n",
       "      <td>country</td>\n",
       "      <td>zoo</td>\n",
       "      <td>bird</td>\n",
       "      <td>place</td>\n",
       "      <td>place</td>\n",
       "    </tr>\n",
       "    <tr>\n",
       "      <th>3</th>\n",
       "      <td>hour</td>\n",
       "      <td>place</td>\n",
       "      <td>place</td>\n",
       "      <td>visit</td>\n",
       "      <td>variety</td>\n",
       "      <td>kid</td>\n",
       "      <td>counter</td>\n",
       "      <td>animal</td>\n",
       "      <td>giraffe</td>\n",
       "      <td>place</td>\n",
       "      <td>bird</td>\n",
       "      <td>kid</td>\n",
       "    </tr>\n",
       "    <tr>\n",
       "      <th>4</th>\n",
       "      <td>time</td>\n",
       "      <td>visitor</td>\n",
       "      <td>visit</td>\n",
       "      <td>time</td>\n",
       "      <td>india</td>\n",
       "      <td>place</td>\n",
       "      <td>garden</td>\n",
       "      <td>zoo</td>\n",
       "      <td>experience</td>\n",
       "      <td>variety</td>\n",
       "      <td>lot</td>\n",
       "      <td>day</td>\n",
       "    </tr>\n",
       "    <tr>\n",
       "      <th>5</th>\n",
       "      <td>plastic</td>\n",
       "      <td>day</td>\n",
       "      <td>number</td>\n",
       "      <td>kid</td>\n",
       "      <td>tiger</td>\n",
       "      <td>car</td>\n",
       "      <td>variety</td>\n",
       "      <td>place</td>\n",
       "      <td>cart</td>\n",
       "      <td>mysore</td>\n",
       "      <td>kid</td>\n",
       "      <td>time</td>\n",
       "    </tr>\n",
       "    <tr>\n",
       "      <th>6</th>\n",
       "      <td>lot</td>\n",
       "      <td>kid</td>\n",
       "      <td>child</td>\n",
       "      <td>collection</td>\n",
       "      <td>lion</td>\n",
       "      <td>food</td>\n",
       "      <td>enclosure</td>\n",
       "      <td>bird</td>\n",
       "      <td>nature</td>\n",
       "      <td>specie</td>\n",
       "      <td>variety</td>\n",
       "      <td>car</td>\n",
       "    </tr>\n",
       "    <tr>\n",
       "      <th>7</th>\n",
       "      <td>battery</td>\n",
       "      <td>variety</td>\n",
       "      <td>bag</td>\n",
       "      <td>bird</td>\n",
       "      <td>snake</td>\n",
       "      <td>battery</td>\n",
       "      <td>shri</td>\n",
       "      <td>lot</td>\n",
       "      <td>facility</td>\n",
       "      <td>kid</td>\n",
       "      <td>visit</td>\n",
       "      <td>km</td>\n",
       "    </tr>\n",
       "  </tbody>\n",
       "</table>\n",
       "</div>"
      ],
      "text/plain": [
       "   Topic 1  Topic 2  Topic 3     Topic 4  Topic 5  Topic 6    Topic 7  \\\n",
       "0   animal   animal   animal      animal      zoo   animal        zoo   \n",
       "1      kid      zoo      zoo         zoo   animal      zoo     animal   \n",
       "2      zoo     time  vehicle       place     bird      lot     mysore   \n",
       "3     hour    place    place       visit  variety      kid    counter   \n",
       "4     time  visitor    visit        time    india    place     garden   \n",
       "5  plastic      day   number         kid    tiger      car    variety   \n",
       "6      lot      kid    child  collection     lion     food  enclosure   \n",
       "7  battery  variety      bag        bird    snake  battery       shri   \n",
       "\n",
       "     Topic 8     Topic 9 Topic 10 Topic 11 Topic 12  \n",
       "0      visit        park   animal      zoo      zoo  \n",
       "1  nameplate       place      zoo   animal   animal  \n",
       "2    country         zoo     bird    place    place  \n",
       "3     animal     giraffe    place     bird      kid  \n",
       "4        zoo  experience  variety      lot      day  \n",
       "5      place        cart   mysore      kid     time  \n",
       "6       bird      nature   specie  variety      car  \n",
       "7        lot    facility      kid    visit       km  "
      ]
     },
     "execution_count": 206,
     "metadata": {},
     "output_type": "execute_result"
    }
   ],
   "source": [
    "df_topics = pd.DataFrame(topic_terms).transpose()\n",
    "df_topics.columns = topics\n",
    "df_topics"
   ]
  },
  {
   "cell_type": "code",
   "execution_count": null,
   "metadata": {},
   "outputs": [],
   "source": []
  },
  {
   "cell_type": "code",
   "execution_count": 207,
   "metadata": {},
   "outputs": [],
   "source": [
    "# Function to get BERT embeddings for a list of LDA topics\n",
    "def get_bert_embeddings_for_topics(lda_topics):\n",
    "    topic_embeddings = []\n",
    "    for topic in lda_topics:\n",
    "        # Convert the LDA topic terms to text\n",
    "        topic_text = \" \".join([id2word[term[0]] for term in topic])  # Convert term IDs to words\n",
    "        # Get BERT embeddings for the topic text\n",
    "        embeddings = get_bert_embeddings(topic_text)\n",
    "        topic_embeddings.append(embeddings)\n",
    "    return topic_embeddings\n",
    "\n",
    "# Get LDA topics from the LDA model\n",
    "lda_topics = [lda_model.get_topic_terms(topic_idx, topn=8) for topic_idx in range(12)]  # Adjust the number of topics\n",
    "\n",
    "# Get BERT embeddings for the LDA topics\n",
    "bert_embeddings_lda_topics = get_bert_embeddings_for_topics(lda_topics)\n"
   ]
  },
  {
   "cell_type": "code",
   "execution_count": 208,
   "metadata": {},
   "outputs": [],
   "source": [
    "from sklearn.cluster import KMeans\n",
    "\n",
    "# Number of clusters (you can adjust this)\n",
    "num_clusters = 5\n",
    "\n",
    "from sklearn.cluster import KMeans\n",
    "import numpy as np\n",
    "\n",
    "# Flatten the BERT embeddings\n",
    "bert_embeddings_flat = np.array(bert_embeddings_lda_topics).reshape(len(bert_embeddings_lda_topics), -1)\n",
    "\n",
    "# Perform K-Means clustering on flattened BERT embeddings\n",
    "kmeans = KMeans(n_clusters=num_clusters, random_state=47)\n",
    "kmeans.fit(bert_embeddings_flat)\n",
    "\n",
    "# Get cluster assignments for each LDA topic\n",
    "cluster_assignments = kmeans.labels_\n",
    "\n"
   ]
  },
  {
   "cell_type": "code",
   "execution_count": 209,
   "metadata": {},
   "outputs": [
    {
     "name": "stdout",
     "output_type": "stream",
     "text": [
      "[1 1 4 1 2 1 3 4 0 3 1 1]\n"
     ]
    }
   ],
   "source": [
    "print(cluster_assignments)"
   ]
  },
  {
   "cell_type": "code",
   "execution_count": 210,
   "metadata": {},
   "outputs": [
    {
     "name": "stdout",
     "output_type": "stream",
     "text": [
      "Silhouette Score: 0.11258675903081894\n"
     ]
    }
   ],
   "source": [
    "from sklearn.metrics import silhouette_score\n",
    "\n",
    "# Calculate the Silhouette Score for K-Means clusters\n",
    "silhouette_avg = silhouette_score(bert_embeddings_flat, kmeans.labels_)\n",
    "print(f\"Silhouette Score: {silhouette_avg}\")\n"
   ]
  },
  {
   "cell_type": "code",
   "execution_count": 211,
   "metadata": {},
   "outputs": [
    {
     "data": {
      "image/png": "[encoded data removed]",
      "text/plain": [
       "<Figure size 432x288 with 1 Axes>"
      ]
     },
     "metadata": {
      "needs_background": "light"
     },
     "output_type": "display_data"
    },
    {
     "name": "stdout",
     "output_type": "stream",
     "text": [
      "[4 4 4 4 1 4 4 3 3 2 3 5]\n"
     ]
    }
   ],
   "source": [
    "import scipy.cluster.hierarchy as sch\n",
    "import matplotlib.pyplot as plt\n",
    "\n",
    "topic_term_matrix = lda_model.get_topics()  # Assuming you have this matrix\n",
    "topic_similarity_matrix = np.dot(topic_term_matrix, topic_term_matrix.T)\n",
    "\n",
    "# Perform hierarchical clustering\n",
    "dendrogram = sch.dendrogram(sch.linkage(topic_similarity_matrix, method='ward'))\n",
    "\n",
    "# Visualize the dendrogram (optional)\n",
    "plt.xlabel('Topics')\n",
    "plt.ylabel('Euclidean Distances')\n",
    "plt.show()\n",
    "\n",
    "# Cut the dendrogram to obtain 5 clusters/topics (adjust the threshold as needed)\n",
    "num_clusters = 5\n",
    "cluster_assignments = sch.fcluster(sch.linkage(topic_similarity_matrix, method='ward'), num_clusters, criterion='maxclust')\n",
    "\n",
    "# Print cluster assignments\n",
    "print(cluster_assignments)"
   ]
  },
  {
   "cell_type": "code",
   "execution_count": 212,
   "metadata": {},
   "outputs": [
    {
     "name": "stdout",
     "output_type": "stream",
     "text": [
      "\n",
      "Updated Coherence Score:  0.2920960334524092\n"
     ]
    }
   ],
   "source": [
    "# Re-run the LDA model with 5 topics (assuming you already reduced the topics)\n",
    "lda_model_updated = gensim.models.ldamodel.LdaModel(corpus=corpus,\n",
    "                                                   id2word=id2word,\n",
    "                                                   num_topics=5,  # Adjust the number of topics to 5\n",
    "                                                   random_state=47,\n",
    "                                                   update_every=1,\n",
    "                                                   chunksize=100,\n",
    "                                                   passes=10,\n",
    "                                                   alpha=\"auto\")\n",
    "\n",
    "# Calculate the coherence score for the updated LDA model\n",
    "from gensim.models import CoherenceModel\n",
    "\n",
    "coherence_model_lda_updated = CoherenceModel(model=lda_model_updated, texts=final_rev_words, dictionary=id2word, coherence='c_v')\n",
    "coherence_lda_updated = coherence_model_lda_updated.get_coherence()\n",
    "print('\\nUpdated Coherence Score: ', coherence_lda_updated)\n"
   ]
  }
 ],
 "metadata": {
  "colab": {
   "provenance": []
  },
  "kernelspec": {
   "display_name": "Python 3",
   "language": "python",
   "name": "python3"
  },
  "language_info": {
   "codemirror_mode": {
    "name": "ipython",
    "version": 3
   },
   "file_extension": ".py",
   "mimetype": "text/x-python",
   "name": "python",
   "nbconvert_exporter": "python",
   "pygments_lexer": "ipython3",
   "version": "3.6.0"
  },
  "vscode": {
   "interpreter": {
    "hash": "6bb6be0075b0a5597c163fe169fd2b785d5b0238554cfc56d8f599d00a2b8ab1"
   }
  }
 },
 "nbformat": 4,
 "nbformat_minor": 1
}
